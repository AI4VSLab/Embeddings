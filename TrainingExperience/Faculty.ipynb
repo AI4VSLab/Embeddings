{
 "cells": [
  {
   "cell_type": "code",
   "execution_count": 1,
   "metadata": {},
   "outputs": [],
   "source": [
    "#Import Libraries\n",
    "from sklearn.decomposition import PCA\n",
    "from sklearn.cluster import KMeans\n",
    "import numpy as np\n",
    "import matplotlib.pyplot as plt\n",
    "import pandas as pd\n",
    "from sgt import SGT\n",
    "import os "
   ]
  },
  {
   "cell_type": "markdown",
   "metadata": {},
   "source": [
    "# Training Experience: Faculty: Subjects 10"
   ]
  },
  {
   "cell_type": "markdown",
   "metadata": {},
   "source": [
    "## Top Con - No Bias Boxes"
   ]
  },
  {
   "cell_type": "markdown",
   "metadata": {},
   "source": [
    "### Healthy"
   ]
  },
  {
   "cell_type": "code",
   "execution_count": 2,
   "metadata": {},
   "outputs": [],
   "source": [
    "#Read Corpus\n",
    "path10 = '../../TOP_CON/Healthy/Healthy(10)/'\n",
    "paths = [path10]\n",
    "\n",
    "\n",
    "def load_files(path):\n",
    "    for i in path:\n",
    "        path_i = os.listdir(i)\n",
    "        for filename in path_i:\n",
    "            if filename!='.ipynb_checkpoints': \n",
    "                new_path = i + filename \n",
    "                yield pd.read_csv(new_path)\n",
    "\n",
    "\n",
    "corpus_healthy = pd.concat(load_files(paths))\n"
   ]
  },
  {
   "cell_type": "code",
   "execution_count": 3,
   "metadata": {},
   "outputs": [],
   "source": [
    "def equal_boxes(x,y):\n",
    "    arr = []\n",
    "    for i,j in zip(x,y):\n",
    "        if 0<i and 0.25 > i and 0<j and 0.25 > j: \n",
    "            arr.append('A')\n",
    "        elif 0.25<i and 0.5 > i and 0<j and 0.25 > j: \n",
    "            arr.append('B')\n",
    "        elif 0.5<i and 0.75 > i and 0<j and 0.25 > j: \n",
    "            arr.append('C')\n",
    "        elif 0.75<i and 1 > i and 0<j and 0.25 > j: \n",
    "            arr.append('D')\n",
    "        elif 0<i and 0.25 > i and 0.25<j and 0.5 > j: \n",
    "            arr.append('E')\n",
    "        elif 0.25<i and 0.5 > i and 0.25<j and 0.5 > j: \n",
    "            arr.append('F')\n",
    "        elif 0.5<i and 0.75 > i and 0.25<j and 0.5 > j: \n",
    "            arr.append('G')\n",
    "        elif 0.75<i and 1 > i and 0.25<j and 0.5 > j: \n",
    "            arr.append('H')\n",
    "        elif 0<i and 0.25 > i and 0.5<j and 0.75 > j: \n",
    "            arr.append('I')\n",
    "        elif 0.25<i and 0.5 > i and 0.5<j and 0.75 > j: \n",
    "            arr.append('J')\n",
    "        elif 0.5<i and 0.75 > i and 0.5<j and 0.75 > j: \n",
    "            arr.append('K')\n",
    "        elif 0.75<i and 1 > i and 0.5<j and 0.75 > j: \n",
    "            arr.append('L')\n",
    "        elif 0<i and 0.25 > i and 0.75<j and 1 > j: \n",
    "            arr.append('M')\n",
    "        elif 0.25<i and 0.5 > i and 0.75<j and 1 > j: \n",
    "            arr.append('N')\n",
    "        elif 0.5<i and 0.75 > i and 0.75<j and 1 > j: \n",
    "            arr.append('O')\n",
    "        elif 0.75<i and 1 > i and 0.75<j and 1 > j: \n",
    "            arr.append('P')\n",
    "        else: \n",
    "            arr.append('error')\n",
    "    return arr\n",
    "\n",
    "x = corpus_healthy.norm_pos_x\n",
    "y = corpus_healthy.norm_pos_y\n",
    "arr = equal_boxes(x,y)"
   ]
  },
  {
   "cell_type": "code",
   "execution_count": 4,
   "metadata": {},
   "outputs": [],
   "source": [
    "def make_corpus(corpus_new):\n",
    "    A = np.array(corpus_new.fixation_id[corpus_new.letters=='A'])\n",
    "    B = np.array(corpus_new.fixation_id[corpus_new.letters=='B'])\n",
    "    C = np.array(corpus_new.fixation_id[corpus_new.letters=='C'])\n",
    "    D = np.array(corpus_new.fixation_id[corpus_new.letters=='D'])\n",
    "    E = np.array(corpus_new.fixation_id[corpus_new.letters=='E'])\n",
    "    F = np.array(corpus_new.fixation_id[corpus_new.letters=='F'])\n",
    "    G = np.array(corpus_new.fixation_id[corpus_new.letters=='G'])\n",
    "    H = np.array(corpus_new.fixation_id[corpus_new.letters=='H'])\n",
    "    I = np.array(corpus_new.fixation_id[corpus_new.letters=='I'])\n",
    "    J = np.array(corpus_new.fixation_id[corpus_new.letters=='J'])\n",
    "    K = np.array(corpus_new.fixation_id[corpus_new.letters=='K'])\n",
    "    L = np.array(corpus_new.fixation_id[corpus_new.letters=='L'])\n",
    "    M = np.array(corpus_new.fixation_id[corpus_new.letters=='M'])\n",
    "    N = np.array(corpus_new.fixation_id[corpus_new.letters=='N'])\n",
    "    O = np.array(corpus_new.fixation_id[corpus_new.letters=='O'])\n",
    "    P = np.array(corpus_new.fixation_id[corpus_new.letters=='P'])\n",
    "    corpus = pd.DataFrame([[1, A], \n",
    "                           [2, B],\n",
    "                           [3, C], \n",
    "                           [4, D], \n",
    "                           [5, E], \n",
    "                           [6, F],\n",
    "                           [7, G], \n",
    "                           [8, H], \n",
    "                           [9, I], \n",
    "                           [10, J],\n",
    "                           [11, K], \n",
    "                           [12, L], \n",
    "                           [13, M], \n",
    "                           [14, N],\n",
    "                           [15, O], \n",
    "                           [16, P]], \n",
    "                          columns=['id', 'sequence'])\n",
    "    return corpus\n",
    "\n",
    "corpus = corpus_healthy\n",
    "corpus['letters'] = arr\n",
    "corpus_new = corpus[['letters', 'fixation_id']]\n",
    "corpus= make_corpus(corpus_new)"
   ]
  },
  {
   "cell_type": "code",
   "execution_count": 5,
   "metadata": {},
   "outputs": [
    {
     "data": {
      "text/html": [
       "<div>\n",
       "<style scoped>\n",
       "    .dataframe tbody tr th:only-of-type {\n",
       "        vertical-align: middle;\n",
       "    }\n",
       "\n",
       "    .dataframe tbody tr th {\n",
       "        vertical-align: top;\n",
       "    }\n",
       "\n",
       "    .dataframe thead th {\n",
       "        text-align: right;\n",
       "    }\n",
       "</style>\n",
       "<table border=\"1\" class=\"dataframe\">\n",
       "  <thead>\n",
       "    <tr style=\"text-align: right;\">\n",
       "      <th></th>\n",
       "      <th>id</th>\n",
       "      <th>sequence</th>\n",
       "    </tr>\n",
       "  </thead>\n",
       "  <tbody>\n",
       "    <tr>\n",
       "      <th>0</th>\n",
       "      <td>1</td>\n",
       "      <td>[300, 304, 304, 305, 305, 306, 306, 306, 307, ...</td>\n",
       "    </tr>\n",
       "    <tr>\n",
       "      <th>1</th>\n",
       "      <td>2</td>\n",
       "      <td>[289, 290, 291, 311, 311, 1955, 1955, 1958, 19...</td>\n",
       "    </tr>\n",
       "    <tr>\n",
       "      <th>2</th>\n",
       "      <td>3</td>\n",
       "      <td>[285, 285, 286, 286, 287, 287, 288, 288, 325, ...</td>\n",
       "    </tr>\n",
       "    <tr>\n",
       "      <th>3</th>\n",
       "      <td>4</td>\n",
       "      <td>[282, 282, 282, 283, 283, 283, 284, 284, 323, ...</td>\n",
       "    </tr>\n",
       "    <tr>\n",
       "      <th>4</th>\n",
       "      <td>5</td>\n",
       "      <td>[296, 297, 297, 298, 298, 299, 299, 300, 317, ...</td>\n",
       "    </tr>\n",
       "    <tr>\n",
       "      <th>5</th>\n",
       "      <td>6</td>\n",
       "      <td>[295, 318, 318, 319, 319, 710, 710, 1956, 1771...</td>\n",
       "    </tr>\n",
       "    <tr>\n",
       "      <th>6</th>\n",
       "      <td>7</td>\n",
       "      <td>[324, 324, 1953, 1966, 1966, 1966, 1783, 1783,...</td>\n",
       "    </tr>\n",
       "    <tr>\n",
       "      <th>7</th>\n",
       "      <td>8</td>\n",
       "      <td>[1782, 1053, 1053, 1053, 2026, 2026, 2026, 202...</td>\n",
       "    </tr>\n",
       "    <tr>\n",
       "      <th>8</th>\n",
       "      <td>9</td>\n",
       "      <td>[315, 316, 316, 316, 714, 714, 716, 1809, 1811...</td>\n",
       "    </tr>\n",
       "    <tr>\n",
       "      <th>9</th>\n",
       "      <td>10</td>\n",
       "      <td>[292, 293, 293, 293, 294, 294, 301, 301, 302, ...</td>\n",
       "    </tr>\n",
       "    <tr>\n",
       "      <th>10</th>\n",
       "      <td>11</td>\n",
       "      <td>[270, 271, 271, 272, 273, 274, 274, 275, 277, ...</td>\n",
       "    </tr>\n",
       "    <tr>\n",
       "      <th>11</th>\n",
       "      <td>12</td>\n",
       "      <td>[270, 273, 276, 279, 320, 320, 701, 701, 702, ...</td>\n",
       "    </tr>\n",
       "    <tr>\n",
       "      <th>12</th>\n",
       "      <td>13</td>\n",
       "      <td>[716, 2094, 2095, 2095, 2095, 2096, 2096]</td>\n",
       "    </tr>\n",
       "    <tr>\n",
       "      <th>13</th>\n",
       "      <td>14</td>\n",
       "      <td>[312, 312, 314, 314, 715, 715, 1812, 1812, 181...</td>\n",
       "    </tr>\n",
       "    <tr>\n",
       "      <th>14</th>\n",
       "      <td>15</td>\n",
       "      <td>[1946, 1776, 1777, 2028, 2028, 2028, 2029, 202...</td>\n",
       "    </tr>\n",
       "    <tr>\n",
       "      <th>15</th>\n",
       "      <td>16</td>\n",
       "      <td>[272, 804, 804]</td>\n",
       "    </tr>\n",
       "  </tbody>\n",
       "</table>\n",
       "</div>"
      ],
      "text/plain": [
       "    id                                           sequence\n",
       "0    1  [300, 304, 304, 305, 305, 306, 306, 306, 307, ...\n",
       "1    2  [289, 290, 291, 311, 311, 1955, 1955, 1958, 19...\n",
       "2    3  [285, 285, 286, 286, 287, 287, 288, 288, 325, ...\n",
       "3    4  [282, 282, 282, 283, 283, 283, 284, 284, 323, ...\n",
       "4    5  [296, 297, 297, 298, 298, 299, 299, 300, 317, ...\n",
       "5    6  [295, 318, 318, 319, 319, 710, 710, 1956, 1771...\n",
       "6    7  [324, 324, 1953, 1966, 1966, 1966, 1783, 1783,...\n",
       "7    8  [1782, 1053, 1053, 1053, 2026, 2026, 2026, 202...\n",
       "8    9  [315, 316, 316, 316, 714, 714, 716, 1809, 1811...\n",
       "9   10  [292, 293, 293, 293, 294, 294, 301, 301, 302, ...\n",
       "10  11  [270, 271, 271, 272, 273, 274, 274, 275, 277, ...\n",
       "11  12  [270, 273, 276, 279, 320, 320, 701, 701, 702, ...\n",
       "12  13          [716, 2094, 2095, 2095, 2095, 2096, 2096]\n",
       "13  14  [312, 312, 314, 314, 715, 715, 1812, 1812, 181...\n",
       "14  15  [1946, 1776, 1777, 2028, 2028, 2028, 2029, 202...\n",
       "15  16                                    [272, 804, 804]"
      ]
     },
     "execution_count": 5,
     "metadata": {},
     "output_type": "execute_result"
    }
   ],
   "source": [
    "corpus"
   ]
  },
  {
   "cell_type": "code",
   "execution_count": 6,
   "metadata": {},
   "outputs": [
    {
     "name": "stdout",
     "output_type": "stream",
     "text": [
      "INFO: Pandarallel will run on 31 workers.\n",
      "INFO: Pandarallel will use Memory file system to transfer data between the main process and workers.\n"
     ]
    }
   ],
   "source": [
    "sgt_ = SGT(kappa=1, \n",
    "           lengthsensitive=False, \n",
    "           mode='multiprocessing')\n",
    "sgtembedding_df = sgt_.fit_transform(corpus)\n",
    "sgtembedding_df = sgtembedding_df.set_index('id')\n"
   ]
  },
  {
   "cell_type": "code",
   "execution_count": 7,
   "metadata": {},
   "outputs": [],
   "source": [
    "pca = PCA(n_components=2)\n",
    "pca.fit(sgtembedding_df)\n",
    "X=pca.transform(sgtembedding_df)\n",
    "\n",
    "df = pd.DataFrame(data=X, columns=['x1', 'x2'])\n"
   ]
  },
  {
   "cell_type": "code",
   "execution_count": 8,
   "metadata": {},
   "outputs": [
    {
     "name": "stderr",
     "output_type": "stream",
     "text": [
      "/home/sanmati/miniconda3/envs/sana-env/lib/python3.10/site-packages/sklearn/cluster/_kmeans.py:870: FutureWarning: The default value of `n_init` will change from 10 to 'auto' in 1.4. Set the value of `n_init` explicitly to suppress the warning\n",
      "  warnings.warn(\n"
     ]
    },
    {
     "data": {
      "text/plain": [
       "<matplotlib.collections.PathCollection at 0x7fe558d82b00>"
      ]
     },
     "execution_count": 8,
     "metadata": {},
     "output_type": "execute_result"
    },
    {
     "data": {
      "image/png": "[encoded data removed]",
      "text/plain": [
       "<Figure size 360x360 with 1 Axes>"
      ]
     },
     "metadata": {
      "needs_background": "light"
     },
     "output_type": "display_data"
    }
   ],
   "source": [
    "kmeans = KMeans(n_clusters=4, max_iter =300)\n",
    "kmeans.fit(df)\n",
    "\n",
    "labels = kmeans.predict(df)\n",
    "centroids = kmeans.cluster_centers_\n",
    "\n",
    "fig = plt.figure(figsize=(5, 5))\n",
    "colmap = {1: 'red', 2: 'green', 3: 'blue', 4: 'orange'}\n",
    "colors = list(map(lambda x: colmap[x+1], labels))\n",
    "plt.scatter(df['x1'], df['x2'], color=colors, alpha=0.5, edgecolor=colors)"
   ]
  },
  {
   "cell_type": "code",
   "execution_count": 9,
   "metadata": {},
   "outputs": [
    {
     "data": {
      "text/html": [
       "<div>\n",
       "<style scoped>\n",
       "    .dataframe tbody tr th:only-of-type {\n",
       "        vertical-align: middle;\n",
       "    }\n",
       "\n",
       "    .dataframe tbody tr th {\n",
       "        vertical-align: top;\n",
       "    }\n",
       "\n",
       "    .dataframe thead th {\n",
       "        text-align: right;\n",
       "    }\n",
       "</style>\n",
       "<table border=\"1\" class=\"dataframe\">\n",
       "  <thead>\n",
       "    <tr style=\"text-align: right;\">\n",
       "      <th></th>\n",
       "      <th>x1</th>\n",
       "      <th>x2</th>\n",
       "      <th>labels</th>\n",
       "    </tr>\n",
       "  </thead>\n",
       "  <tbody>\n",
       "    <tr>\n",
       "      <th>0</th>\n",
       "      <td>-0.237512</td>\n",
       "      <td>-0.138664</td>\n",
       "      <td>red</td>\n",
       "    </tr>\n",
       "    <tr>\n",
       "      <th>1</th>\n",
       "      <td>-0.248363</td>\n",
       "      <td>-0.158324</td>\n",
       "      <td>red</td>\n",
       "    </tr>\n",
       "    <tr>\n",
       "      <th>2</th>\n",
       "      <td>-0.287192</td>\n",
       "      <td>-0.269305</td>\n",
       "      <td>red</td>\n",
       "    </tr>\n",
       "    <tr>\n",
       "      <th>3</th>\n",
       "      <td>-0.344073</td>\n",
       "      <td>-1.048365</td>\n",
       "      <td>orange</td>\n",
       "    </tr>\n",
       "    <tr>\n",
       "      <th>4</th>\n",
       "      <td>-0.219425</td>\n",
       "      <td>-0.113234</td>\n",
       "      <td>red</td>\n",
       "    </tr>\n",
       "    <tr>\n",
       "      <th>5</th>\n",
       "      <td>-0.201177</td>\n",
       "      <td>-0.092285</td>\n",
       "      <td>red</td>\n",
       "    </tr>\n",
       "    <tr>\n",
       "      <th>6</th>\n",
       "      <td>-0.184218</td>\n",
       "      <td>-0.076822</td>\n",
       "      <td>red</td>\n",
       "    </tr>\n",
       "    <tr>\n",
       "      <th>7</th>\n",
       "      <td>-0.152125</td>\n",
       "      <td>-0.054090</td>\n",
       "      <td>red</td>\n",
       "    </tr>\n",
       "    <tr>\n",
       "      <th>8</th>\n",
       "      <td>-0.193564</td>\n",
       "      <td>-0.084242</td>\n",
       "      <td>red</td>\n",
       "    </tr>\n",
       "    <tr>\n",
       "      <th>9</th>\n",
       "      <td>-0.382237</td>\n",
       "      <td>2.313656</td>\n",
       "      <td>blue</td>\n",
       "    </tr>\n",
       "    <tr>\n",
       "      <th>10</th>\n",
       "      <td>-0.122617</td>\n",
       "      <td>-0.152090</td>\n",
       "      <td>red</td>\n",
       "    </tr>\n",
       "    <tr>\n",
       "      <th>11</th>\n",
       "      <td>3.131954</td>\n",
       "      <td>0.078112</td>\n",
       "      <td>green</td>\n",
       "    </tr>\n",
       "    <tr>\n",
       "      <th>12</th>\n",
       "      <td>-0.142047</td>\n",
       "      <td>-0.048243</td>\n",
       "      <td>red</td>\n",
       "    </tr>\n",
       "    <tr>\n",
       "      <th>13</th>\n",
       "      <td>-0.157297</td>\n",
       "      <td>-0.057156</td>\n",
       "      <td>red</td>\n",
       "    </tr>\n",
       "    <tr>\n",
       "      <th>14</th>\n",
       "      <td>-0.120944</td>\n",
       "      <td>-0.052276</td>\n",
       "      <td>red</td>\n",
       "    </tr>\n",
       "    <tr>\n",
       "      <th>15</th>\n",
       "      <td>-0.139162</td>\n",
       "      <td>-0.046672</td>\n",
       "      <td>red</td>\n",
       "    </tr>\n",
       "  </tbody>\n",
       "</table>\n",
       "</div>"
      ],
      "text/plain": [
       "          x1        x2  labels\n",
       "0  -0.237512 -0.138664     red\n",
       "1  -0.248363 -0.158324     red\n",
       "2  -0.287192 -0.269305     red\n",
       "3  -0.344073 -1.048365  orange\n",
       "4  -0.219425 -0.113234     red\n",
       "5  -0.201177 -0.092285     red\n",
       "6  -0.184218 -0.076822     red\n",
       "7  -0.152125 -0.054090     red\n",
       "8  -0.193564 -0.084242     red\n",
       "9  -0.382237  2.313656    blue\n",
       "10 -0.122617 -0.152090     red\n",
       "11  3.131954  0.078112   green\n",
       "12 -0.142047 -0.048243     red\n",
       "13 -0.157297 -0.057156     red\n",
       "14 -0.120944 -0.052276     red\n",
       "15 -0.139162 -0.046672     red"
      ]
     },
     "execution_count": 9,
     "metadata": {},
     "output_type": "execute_result"
    }
   ],
   "source": [
    "df['labels'] = colors\n",
    "df"
   ]
  },
  {
   "cell_type": "markdown",
   "metadata": {},
   "source": [
    "### Glaucoma"
   ]
  },
  {
   "cell_type": "code",
   "execution_count": 11,
   "metadata": {},
   "outputs": [],
   "source": [
    "#Read Corpus\n",
    "path10 = '../../TOP_CON/Glaucoma/Glaucoma(10)/'\n",
    "paths = [path10]\n",
    "\n",
    "\n",
    "def load_files(path):\n",
    "    for i in path:\n",
    "        path_i = os.listdir(i)\n",
    "        for filename in path_i:\n",
    "            if filename!='.ipynb_checkpoints': \n",
    "                new_path = i + filename \n",
    "                yield pd.read_csv(new_path)\n",
    "\n",
    "\n",
    "corpus_diseased = pd.concat(load_files(paths))\n",
    "\n"
   ]
  },
  {
   "cell_type": "code",
   "execution_count": 12,
   "metadata": {},
   "outputs": [],
   "source": [
    "x = corpus_diseased.norm_pos_x\n",
    "y = corpus_diseased.norm_pos_y\n",
    "arr = equal_boxes(x,y)\n",
    "\n",
    "corpus = corpus_diseased\n",
    "corpus['letters'] = arr\n",
    "corpus_new = corpus[['letters', 'fixation_id']]\n",
    "corpus= make_corpus(corpus_new)"
   ]
  },
  {
   "cell_type": "code",
   "execution_count": 13,
   "metadata": {},
   "outputs": [
    {
     "name": "stdout",
     "output_type": "stream",
     "text": [
      "INFO: Pandarallel will run on 31 workers.\n",
      "INFO: Pandarallel will use Memory file system to transfer data between the main process and workers.\n"
     ]
    }
   ],
   "source": [
    "sgt_ = SGT(kappa=1, \n",
    "           lengthsensitive=False, \n",
    "           mode='multiprocessing')\n",
    "sgtembedding_df = sgt_.fit_transform(corpus)\n",
    "sgtembedding_df = sgtembedding_df.set_index('id')"
   ]
  },
  {
   "cell_type": "code",
   "execution_count": 14,
   "metadata": {},
   "outputs": [],
   "source": [
    "pca = PCA(n_components=2)\n",
    "pca.fit(sgtembedding_df)\n",
    "X=pca.transform(sgtembedding_df)\n",
    "\n",
    "df = pd.DataFrame(data=X, columns=['x1', 'x2'])"
   ]
  },
  {
   "cell_type": "code",
   "execution_count": 15,
   "metadata": {},
   "outputs": [
    {
     "name": "stderr",
     "output_type": "stream",
     "text": [
      "/home/sanmati/miniconda3/envs/sana-env/lib/python3.10/site-packages/sklearn/cluster/_kmeans.py:870: FutureWarning: The default value of `n_init` will change from 10 to 'auto' in 1.4. Set the value of `n_init` explicitly to suppress the warning\n",
      "  warnings.warn(\n"
     ]
    },
    {
     "data": {
      "text/plain": [
       "<matplotlib.collections.PathCollection at 0x7fe56a73bf70>"
      ]
     },
     "execution_count": 15,
     "metadata": {},
     "output_type": "execute_result"
    },
    {
     "data": {
      "image/png": "[encoded data removed]",
      "text/plain": [
       "<Figure size 360x360 with 1 Axes>"
      ]
     },
     "metadata": {
      "needs_background": "light"
     },
     "output_type": "display_data"
    }
   ],
   "source": [
    "kmeans = KMeans(n_clusters=4, max_iter =300)\n",
    "kmeans.fit(df)\n",
    "\n",
    "labels = kmeans.predict(df)\n",
    "centroids = kmeans.cluster_centers_\n",
    "\n",
    "fig = plt.figure(figsize=(5, 5))\n",
    "colmap = {1: 'red', 2: 'green', 3: 'blue', 4: 'orange'}\n",
    "colors = list(map(lambda x: colmap[x+1], labels))\n",
    "plt.scatter(df['x1'], df['x2'], color=colors, alpha=0.5, edgecolor=colors)"
   ]
  },
  {
   "cell_type": "code",
   "execution_count": 16,
   "metadata": {},
   "outputs": [
    {
     "data": {
      "text/html": [
       "<div>\n",
       "<style scoped>\n",
       "    .dataframe tbody tr th:only-of-type {\n",
       "        vertical-align: middle;\n",
       "    }\n",
       "\n",
       "    .dataframe tbody tr th {\n",
       "        vertical-align: top;\n",
       "    }\n",
       "\n",
       "    .dataframe thead th {\n",
       "        text-align: right;\n",
       "    }\n",
       "</style>\n",
       "<table border=\"1\" class=\"dataframe\">\n",
       "  <thead>\n",
       "    <tr style=\"text-align: right;\">\n",
       "      <th></th>\n",
       "      <th>x1</th>\n",
       "      <th>x2</th>\n",
       "      <th>labels</th>\n",
       "    </tr>\n",
       "  </thead>\n",
       "  <tbody>\n",
       "    <tr>\n",
       "      <th>0</th>\n",
       "      <td>-0.195801</td>\n",
       "      <td>-0.070458</td>\n",
       "      <td>orange</td>\n",
       "    </tr>\n",
       "    <tr>\n",
       "      <th>1</th>\n",
       "      <td>-0.226256</td>\n",
       "      <td>-0.141828</td>\n",
       "      <td>orange</td>\n",
       "    </tr>\n",
       "    <tr>\n",
       "      <th>2</th>\n",
       "      <td>-0.195193</td>\n",
       "      <td>-0.069549</td>\n",
       "      <td>orange</td>\n",
       "    </tr>\n",
       "    <tr>\n",
       "      <th>3</th>\n",
       "      <td>-0.254388</td>\n",
       "      <td>-0.343278</td>\n",
       "      <td>red</td>\n",
       "    </tr>\n",
       "    <tr>\n",
       "      <th>4</th>\n",
       "      <td>-0.192678</td>\n",
       "      <td>-0.064972</td>\n",
       "      <td>orange</td>\n",
       "    </tr>\n",
       "    <tr>\n",
       "      <th>5</th>\n",
       "      <td>-0.222184</td>\n",
       "      <td>-0.129994</td>\n",
       "      <td>orange</td>\n",
       "    </tr>\n",
       "    <tr>\n",
       "      <th>6</th>\n",
       "      <td>-0.191801</td>\n",
       "      <td>-0.065970</td>\n",
       "      <td>orange</td>\n",
       "    </tr>\n",
       "    <tr>\n",
       "      <th>7</th>\n",
       "      <td>-0.202623</td>\n",
       "      <td>-0.116838</td>\n",
       "      <td>orange</td>\n",
       "    </tr>\n",
       "    <tr>\n",
       "      <th>8</th>\n",
       "      <td>-0.254630</td>\n",
       "      <td>-0.550233</td>\n",
       "      <td>red</td>\n",
       "    </tr>\n",
       "    <tr>\n",
       "      <th>9</th>\n",
       "      <td>-0.269769</td>\n",
       "      <td>1.894729</td>\n",
       "      <td>blue</td>\n",
       "    </tr>\n",
       "    <tr>\n",
       "      <th>10</th>\n",
       "      <td>-0.167364</td>\n",
       "      <td>-0.213723</td>\n",
       "      <td>orange</td>\n",
       "    </tr>\n",
       "    <tr>\n",
       "      <th>11</th>\n",
       "      <td>2.932267</td>\n",
       "      <td>0.029927</td>\n",
       "      <td>green</td>\n",
       "    </tr>\n",
       "    <tr>\n",
       "      <th>12</th>\n",
       "      <td>-0.151089</td>\n",
       "      <td>-0.032285</td>\n",
       "      <td>orange</td>\n",
       "    </tr>\n",
       "    <tr>\n",
       "      <th>13</th>\n",
       "      <td>-0.184022</td>\n",
       "      <td>-0.055979</td>\n",
       "      <td>orange</td>\n",
       "    </tr>\n",
       "    <tr>\n",
       "      <th>14</th>\n",
       "      <td>-0.109452</td>\n",
       "      <td>-0.033191</td>\n",
       "      <td>orange</td>\n",
       "    </tr>\n",
       "    <tr>\n",
       "      <th>15</th>\n",
       "      <td>-0.115016</td>\n",
       "      <td>-0.036357</td>\n",
       "      <td>orange</td>\n",
       "    </tr>\n",
       "  </tbody>\n",
       "</table>\n",
       "</div>"
      ],
      "text/plain": [
       "          x1        x2  labels\n",
       "0  -0.195801 -0.070458  orange\n",
       "1  -0.226256 -0.141828  orange\n",
       "2  -0.195193 -0.069549  orange\n",
       "3  -0.254388 -0.343278     red\n",
       "4  -0.192678 -0.064972  orange\n",
       "5  -0.222184 -0.129994  orange\n",
       "6  -0.191801 -0.065970  orange\n",
       "7  -0.202623 -0.116838  orange\n",
       "8  -0.254630 -0.550233     red\n",
       "9  -0.269769  1.894729    blue\n",
       "10 -0.167364 -0.213723  orange\n",
       "11  2.932267  0.029927   green\n",
       "12 -0.151089 -0.032285  orange\n",
       "13 -0.184022 -0.055979  orange\n",
       "14 -0.109452 -0.033191  orange\n",
       "15 -0.115016 -0.036357  orange"
      ]
     },
     "execution_count": 16,
     "metadata": {},
     "output_type": "execute_result"
    }
   ],
   "source": [
    "df['labels'] = colors\n",
    "df"
   ]
  },
  {
   "cell_type": "markdown",
   "metadata": {},
   "source": [
    "## Top Con -  Bias Boxes"
   ]
  },
  {
   "cell_type": "markdown",
   "metadata": {},
   "source": [
    "### Healthy"
   ]
  },
  {
   "cell_type": "code",
   "execution_count": 17,
   "metadata": {},
   "outputs": [],
   "source": [
    "def bias_boxes(x,y): \n",
    "    arr = []\n",
    "    for i,j in zip(x,y):\n",
    "        if 0<i and 0.6 > i and 0<j and 0.6 > j: \n",
    "            arr.append('A')\n",
    "        elif 0<i and 0.25 > i and 0.6<j and 1 > j: \n",
    "            arr.append('B')\n",
    "        elif 0.25<i and 0.48 > i and 0.6<j and 1 > j: \n",
    "            arr.append('C')\n",
    "        elif 0.48<i and 0.6 > i and 0.6<j and 1 > j: \n",
    "            arr.append('D')\n",
    "        elif 0.6<i and 1 > i and 0<j and 0.6 > j: \n",
    "            arr.append('E')\n",
    "        elif 0.6<i and 0.77 > i and 0.6<j and 1 > j: \n",
    "            arr.append('F')\n",
    "        elif 0.77<i and 1 > i and 0.6<j and 1 > j: \n",
    "            arr.append('G')\n",
    "        else: \n",
    "            arr.append('error')\n",
    "            \n",
    "    return arr\n",
    "\n",
    "x = corpus_healthy.norm_pos_x\n",
    "y = corpus_healthy.norm_pos_y\n",
    "arr = bias_boxes(x,y)\n",
    "\n"
   ]
  },
  {
   "cell_type": "code",
   "execution_count": 18,
   "metadata": {},
   "outputs": [],
   "source": [
    "def make_corpus_2(corpus_new): \n",
    "    A = np.array(corpus_new.fixation_id[corpus_new.letters=='A'])\n",
    "    B = np.array(corpus_new.fixation_id[corpus_new.letters=='B'])\n",
    "    C = np.array(corpus_new.fixation_id[corpus_new.letters=='C'])\n",
    "    D = np.array(corpus_new.fixation_id[corpus_new.letters=='D'])\n",
    "    E = np.array(corpus_new.fixation_id[corpus_new.letters=='E'])\n",
    "    F = np.array(corpus_new.fixation_id[corpus_new.letters=='F'])\n",
    "    G = np.array(corpus_new.fixation_id[corpus_new.letters=='G'])\n",
    "    corpus = pd.DataFrame([[1, A], \n",
    "                           [2, B],\n",
    "                           [3, C], \n",
    "                           [4, D], \n",
    "                           [5, E], \n",
    "                           [6, F],\n",
    "                           [7, G]], columns=['id', 'sequence'])\n",
    "    return corpus\n",
    "\n",
    "corpus = corpus_healthy\n",
    "corpus['letters'] = arr\n",
    "corpus_new = corpus[['letters', 'fixation_id']]\n",
    "corpus= make_corpus_2(corpus_new)"
   ]
  },
  {
   "cell_type": "code",
   "execution_count": 19,
   "metadata": {},
   "outputs": [
    {
     "data": {
      "text/html": [
       "<div>\n",
       "<style scoped>\n",
       "    .dataframe tbody tr th:only-of-type {\n",
       "        vertical-align: middle;\n",
       "    }\n",
       "\n",
       "    .dataframe tbody tr th {\n",
       "        vertical-align: top;\n",
       "    }\n",
       "\n",
       "    .dataframe thead th {\n",
       "        text-align: right;\n",
       "    }\n",
       "</style>\n",
       "<table border=\"1\" class=\"dataframe\">\n",
       "  <thead>\n",
       "    <tr style=\"text-align: right;\">\n",
       "      <th></th>\n",
       "      <th>regions</th>\n",
       "      <th>fixation ids</th>\n",
       "    </tr>\n",
       "  </thead>\n",
       "  <tbody>\n",
       "    <tr>\n",
       "      <th>0</th>\n",
       "      <td>0</td>\n",
       "      <td>[289, 290, 291, 292, 293, 293, 293, 295, 296, ...</td>\n",
       "    </tr>\n",
       "    <tr>\n",
       "      <th>1</th>\n",
       "      <td>1</td>\n",
       "      <td>[315, 316, 316, 316, 714, 714, 716, 716, 1809,...</td>\n",
       "    </tr>\n",
       "    <tr>\n",
       "      <th>2</th>\n",
       "      <td>2</td>\n",
       "      <td>[294, 294, 312, 312, 313, 313, 314, 314, 699, ...</td>\n",
       "    </tr>\n",
       "    <tr>\n",
       "      <th>3</th>\n",
       "      <td>3</td>\n",
       "      <td>[703, 703, 1945, 1946, 1946, 1043, 1043, 1052]</td>\n",
       "    </tr>\n",
       "    <tr>\n",
       "      <th>4</th>\n",
       "      <td>4</td>\n",
       "      <td>[279, 279, 279, 280, 282, 282, 282, 283, 283, ...</td>\n",
       "    </tr>\n",
       "    <tr>\n",
       "      <th>5</th>\n",
       "      <td>5</td>\n",
       "      <td>[270, 270, 271, 271, 272, 273, 273, 274, 274, ...</td>\n",
       "    </tr>\n",
       "    <tr>\n",
       "      <th>6</th>\n",
       "      <td>6</td>\n",
       "      <td>[272, 320, 701, 701, 702, 702, 702, 702, 704, ...</td>\n",
       "    </tr>\n",
       "  </tbody>\n",
       "</table>\n",
       "</div>"
      ],
      "text/plain": [
       "   regions                                       fixation ids\n",
       "0        0  [289, 290, 291, 292, 293, 293, 293, 295, 296, ...\n",
       "1        1  [315, 316, 316, 316, 714, 714, 716, 716, 1809,...\n",
       "2        2  [294, 294, 312, 312, 313, 313, 314, 314, 699, ...\n",
       "3        3     [703, 703, 1945, 1946, 1946, 1043, 1043, 1052]\n",
       "4        4  [279, 279, 279, 280, 282, 282, 282, 283, 283, ...\n",
       "5        5  [270, 270, 271, 271, 272, 273, 273, 274, 274, ...\n",
       "6        6  [272, 320, 701, 701, 702, 702, 702, 702, 704, ..."
      ]
     },
     "execution_count": 19,
     "metadata": {},
     "output_type": "execute_result"
    }
   ],
   "source": [
    "l = corpus.reset_index()\n",
    "l.columns = ['regions', 'id', 'fixation ids']\n",
    "l[['regions', 'fixation ids']]\n"
   ]
  },
  {
   "cell_type": "code",
   "execution_count": 20,
   "metadata": {},
   "outputs": [
    {
     "name": "stdout",
     "output_type": "stream",
     "text": [
      "INFO: Pandarallel will run on 31 workers.\n",
      "INFO: Pandarallel will use Memory file system to transfer data between the main process and workers.\n"
     ]
    }
   ],
   "source": [
    "sgt_ = SGT(kappa=1, \n",
    "           lengthsensitive=False, \n",
    "           mode='multiprocessing')\n",
    "sgtembedding_df = sgt_.fit_transform(corpus)\n",
    "sgtembedding_df = sgtembedding_df.set_index('id')\n"
   ]
  },
  {
   "cell_type": "code",
   "execution_count": 21,
   "metadata": {},
   "outputs": [
    {
     "name": "stdout",
     "output_type": "stream",
     "text": [
      "0.6659272182562989\n"
     ]
    },
    {
     "data": {
      "text/html": [
       "<div>\n",
       "<style scoped>\n",
       "    .dataframe tbody tr th:only-of-type {\n",
       "        vertical-align: middle;\n",
       "    }\n",
       "\n",
       "    .dataframe tbody tr th {\n",
       "        vertical-align: top;\n",
       "    }\n",
       "\n",
       "    .dataframe thead th {\n",
       "        text-align: right;\n",
       "    }\n",
       "</style>\n",
       "<table border=\"1\" class=\"dataframe\">\n",
       "  <thead>\n",
       "    <tr style=\"text-align: right;\">\n",
       "      <th></th>\n",
       "      <th>x1</th>\n",
       "      <th>x2</th>\n",
       "    </tr>\n",
       "  </thead>\n",
       "  <tbody>\n",
       "    <tr>\n",
       "      <th>0</th>\n",
       "      <td>3.695270</td>\n",
       "      <td>1.505225</td>\n",
       "    </tr>\n",
       "    <tr>\n",
       "      <th>1</th>\n",
       "      <td>-0.236594</td>\n",
       "      <td>-0.711713</td>\n",
       "    </tr>\n",
       "    <tr>\n",
       "      <th>2</th>\n",
       "      <td>-0.277765</td>\n",
       "      <td>-0.895394</td>\n",
       "    </tr>\n",
       "    <tr>\n",
       "      <th>3</th>\n",
       "      <td>-0.207032</td>\n",
       "      <td>-0.594248</td>\n",
       "    </tr>\n",
       "    <tr>\n",
       "      <th>4</th>\n",
       "      <td>-2.334833</td>\n",
       "      <td>2.917628</td>\n",
       "    </tr>\n",
       "    <tr>\n",
       "      <th>5</th>\n",
       "      <td>-0.318274</td>\n",
       "      <td>-1.104219</td>\n",
       "    </tr>\n",
       "    <tr>\n",
       "      <th>6</th>\n",
       "      <td>-0.320772</td>\n",
       "      <td>-1.117279</td>\n",
       "    </tr>\n",
       "  </tbody>\n",
       "</table>\n",
       "</div>"
      ],
      "text/plain": [
       "         x1        x2\n",
       "0  3.695270  1.505225\n",
       "1 -0.236594 -0.711713\n",
       "2 -0.277765 -0.895394\n",
       "3 -0.207032 -0.594248\n",
       "4 -2.334833  2.917628\n",
       "5 -0.318274 -1.104219\n",
       "6 -0.320772 -1.117279"
      ]
     },
     "execution_count": 21,
     "metadata": {},
     "output_type": "execute_result"
    }
   ],
   "source": [
    "pca = PCA(n_components=2)\n",
    "pca.fit(sgtembedding_df)\n",
    "X=pca.transform(sgtembedding_df)\n",
    "\n",
    "print(np.sum(pca.explained_variance_ratio_))\n",
    "df = pd.DataFrame(data=X, columns=['x1', 'x2'])\n",
    "df"
   ]
  },
  {
   "cell_type": "code",
   "execution_count": 22,
   "metadata": {},
   "outputs": [
    {
     "name": "stderr",
     "output_type": "stream",
     "text": [
      "/home/sanmati/miniconda3/envs/sana-env/lib/python3.10/site-packages/sklearn/cluster/_kmeans.py:870: FutureWarning: The default value of `n_init` will change from 10 to 'auto' in 1.4. Set the value of `n_init` explicitly to suppress the warning\n",
      "  warnings.warn(\n"
     ]
    },
    {
     "data": {
      "text/plain": [
       "<matplotlib.collections.PathCollection at 0x7fe54ea0c550>"
      ]
     },
     "execution_count": 22,
     "metadata": {},
     "output_type": "execute_result"
    },
    {
     "data": {
      "image/png": "[encoded data removed]",
      "text/plain": [
       "<Figure size 360x360 with 1 Axes>"
      ]
     },
     "metadata": {
      "needs_background": "light"
     },
     "output_type": "display_data"
    }
   ],
   "source": [
    "kmeans = KMeans(n_clusters=3, max_iter =300)\n",
    "kmeans.fit(df)\n",
    "\n",
    "labels = kmeans.predict(df)\n",
    "centroids = kmeans.cluster_centers_\n",
    "\n",
    "fig = plt.figure(figsize=(5, 5))\n",
    "colmap = {1: 'r', 2: 'g', 3: 'b'}\n",
    "colors = list(map(lambda x: colmap[x+1], labels))\n",
    "plt.scatter(df['x1'], df['x2'], color=colors, alpha=0.5, edgecolor=colors)"
   ]
  },
  {
   "cell_type": "code",
   "execution_count": 23,
   "metadata": {},
   "outputs": [
    {
     "data": {
      "text/html": [
       "<div>\n",
       "<style scoped>\n",
       "    .dataframe tbody tr th:only-of-type {\n",
       "        vertical-align: middle;\n",
       "    }\n",
       "\n",
       "    .dataframe tbody tr th {\n",
       "        vertical-align: top;\n",
       "    }\n",
       "\n",
       "    .dataframe thead th {\n",
       "        text-align: right;\n",
       "    }\n",
       "</style>\n",
       "<table border=\"1\" class=\"dataframe\">\n",
       "  <thead>\n",
       "    <tr style=\"text-align: right;\">\n",
       "      <th></th>\n",
       "      <th>x1</th>\n",
       "      <th>x2</th>\n",
       "      <th>labels</th>\n",
       "    </tr>\n",
       "  </thead>\n",
       "  <tbody>\n",
       "    <tr>\n",
       "      <th>0</th>\n",
       "      <td>3.695270</td>\n",
       "      <td>1.505225</td>\n",
       "      <td>b</td>\n",
       "    </tr>\n",
       "    <tr>\n",
       "      <th>1</th>\n",
       "      <td>-0.236594</td>\n",
       "      <td>-0.711713</td>\n",
       "      <td>g</td>\n",
       "    </tr>\n",
       "    <tr>\n",
       "      <th>2</th>\n",
       "      <td>-0.277765</td>\n",
       "      <td>-0.895394</td>\n",
       "      <td>g</td>\n",
       "    </tr>\n",
       "    <tr>\n",
       "      <th>3</th>\n",
       "      <td>-0.207032</td>\n",
       "      <td>-0.594248</td>\n",
       "      <td>g</td>\n",
       "    </tr>\n",
       "    <tr>\n",
       "      <th>4</th>\n",
       "      <td>-2.334833</td>\n",
       "      <td>2.917628</td>\n",
       "      <td>r</td>\n",
       "    </tr>\n",
       "    <tr>\n",
       "      <th>5</th>\n",
       "      <td>-0.318274</td>\n",
       "      <td>-1.104219</td>\n",
       "      <td>g</td>\n",
       "    </tr>\n",
       "    <tr>\n",
       "      <th>6</th>\n",
       "      <td>-0.320772</td>\n",
       "      <td>-1.117279</td>\n",
       "      <td>g</td>\n",
       "    </tr>\n",
       "  </tbody>\n",
       "</table>\n",
       "</div>"
      ],
      "text/plain": [
       "         x1        x2 labels\n",
       "0  3.695270  1.505225      b\n",
       "1 -0.236594 -0.711713      g\n",
       "2 -0.277765 -0.895394      g\n",
       "3 -0.207032 -0.594248      g\n",
       "4 -2.334833  2.917628      r\n",
       "5 -0.318274 -1.104219      g\n",
       "6 -0.320772 -1.117279      g"
      ]
     },
     "execution_count": 23,
     "metadata": {},
     "output_type": "execute_result"
    }
   ],
   "source": [
    "df['labels'] = colors\n",
    "df"
   ]
  },
  {
   "cell_type": "markdown",
   "metadata": {},
   "source": [
    "### Glaucoma"
   ]
  },
  {
   "cell_type": "code",
   "execution_count": 24,
   "metadata": {},
   "outputs": [],
   "source": [
    "x = corpus_diseased.norm_pos_x\n",
    "y = corpus_diseased.norm_pos_y\n",
    "arr = bias_boxes(x,y)\n",
    "\n",
    "corpus = corpus_diseased\n",
    "corpus['letters'] = arr\n",
    "corpus_new = corpus[['letters', 'fixation_id']]\n",
    "corpus= make_corpus_2(corpus_new)"
   ]
  },
  {
   "cell_type": "code",
   "execution_count": 25,
   "metadata": {},
   "outputs": [
    {
     "name": "stdout",
     "output_type": "stream",
     "text": [
      "INFO: Pandarallel will run on 31 workers.\n",
      "INFO: Pandarallel will use Memory file system to transfer data between the main process and workers.\n"
     ]
    }
   ],
   "source": [
    "sgt_ = SGT(kappa=1, \n",
    "           lengthsensitive=False, \n",
    "           mode='multiprocessing')\n",
    "sgtembedding_df = sgt_.fit_transform(corpus)\n",
    "sgtembedding_df = sgtembedding_df.set_index('id')\n"
   ]
  },
  {
   "cell_type": "code",
   "execution_count": 26,
   "metadata": {},
   "outputs": [
    {
     "name": "stdout",
     "output_type": "stream",
     "text": [
      "0.5603054127869024\n"
     ]
    },
    {
     "data": {
      "text/html": [
       "<div>\n",
       "<style scoped>\n",
       "    .dataframe tbody tr th:only-of-type {\n",
       "        vertical-align: middle;\n",
       "    }\n",
       "\n",
       "    .dataframe tbody tr th {\n",
       "        vertical-align: top;\n",
       "    }\n",
       "\n",
       "    .dataframe thead th {\n",
       "        text-align: right;\n",
       "    }\n",
       "</style>\n",
       "<table border=\"1\" class=\"dataframe\">\n",
       "  <thead>\n",
       "    <tr style=\"text-align: right;\">\n",
       "      <th></th>\n",
       "      <th>x1</th>\n",
       "      <th>x2</th>\n",
       "    </tr>\n",
       "  </thead>\n",
       "  <tbody>\n",
       "    <tr>\n",
       "      <th>0</th>\n",
       "      <td>3.101741</td>\n",
       "      <td>0.595211</td>\n",
       "    </tr>\n",
       "    <tr>\n",
       "      <th>1</th>\n",
       "      <td>-0.286335</td>\n",
       "      <td>-0.343545</td>\n",
       "    </tr>\n",
       "    <tr>\n",
       "      <th>2</th>\n",
       "      <td>-0.306688</td>\n",
       "      <td>-0.380241</td>\n",
       "    </tr>\n",
       "    <tr>\n",
       "      <th>3</th>\n",
       "      <td>-0.193425</td>\n",
       "      <td>-0.202262</td>\n",
       "    </tr>\n",
       "    <tr>\n",
       "      <th>4</th>\n",
       "      <td>-1.316201</td>\n",
       "      <td>2.492034</td>\n",
       "    </tr>\n",
       "    <tr>\n",
       "      <th>5</th>\n",
       "      <td>-0.378115</td>\n",
       "      <td>-0.668427</td>\n",
       "    </tr>\n",
       "    <tr>\n",
       "      <th>6</th>\n",
       "      <td>-0.620978</td>\n",
       "      <td>-1.492770</td>\n",
       "    </tr>\n",
       "  </tbody>\n",
       "</table>\n",
       "</div>"
      ],
      "text/plain": [
       "         x1        x2\n",
       "0  3.101741  0.595211\n",
       "1 -0.286335 -0.343545\n",
       "2 -0.306688 -0.380241\n",
       "3 -0.193425 -0.202262\n",
       "4 -1.316201  2.492034\n",
       "5 -0.378115 -0.668427\n",
       "6 -0.620978 -1.492770"
      ]
     },
     "execution_count": 26,
     "metadata": {},
     "output_type": "execute_result"
    }
   ],
   "source": [
    "pca = PCA(n_components=2)\n",
    "pca.fit(sgtembedding_df)\n",
    "X=pca.transform(sgtembedding_df)\n",
    "\n",
    "print(np.sum(pca.explained_variance_ratio_))\n",
    "df = pd.DataFrame(data=X, columns=['x1', 'x2'])\n",
    "df"
   ]
  },
  {
   "cell_type": "code",
   "execution_count": 27,
   "metadata": {},
   "outputs": [
    {
     "name": "stderr",
     "output_type": "stream",
     "text": [
      "/home/sanmati/miniconda3/envs/sana-env/lib/python3.10/site-packages/sklearn/cluster/_kmeans.py:870: FutureWarning: The default value of `n_init` will change from 10 to 'auto' in 1.4. Set the value of `n_init` explicitly to suppress the warning\n",
      "  warnings.warn(\n"
     ]
    },
    {
     "data": {
      "text/plain": [
       "<matplotlib.collections.PathCollection at 0x7fe4da1f15d0>"
      ]
     },
     "execution_count": 27,
     "metadata": {},
     "output_type": "execute_result"
    },
    {
     "data": {
      "image/png": "[encoded data removed]",
      "text/plain": [
       "<Figure size 360x360 with 1 Axes>"
      ]
     },
     "metadata": {
      "needs_background": "light"
     },
     "output_type": "display_data"
    }
   ],
   "source": [
    "kmeans = KMeans(n_clusters=3, max_iter =300)\n",
    "kmeans.fit(df)\n",
    "\n",
    "labels = kmeans.predict(df)\n",
    "centroids = kmeans.cluster_centers_\n",
    "\n",
    "fig = plt.figure(figsize=(5, 5))\n",
    "colmap = {1: 'r', 2: 'g', 3: 'b'}\n",
    "colors = list(map(lambda x: colmap[x+1], labels))\n",
    "plt.scatter(df['x1'], df['x2'], color=colors, alpha=0.5, edgecolor=colors)"
   ]
  },
  {
   "cell_type": "code",
   "execution_count": 28,
   "metadata": {},
   "outputs": [
    {
     "data": {
      "text/html": [
       "<div>\n",
       "<style scoped>\n",
       "    .dataframe tbody tr th:only-of-type {\n",
       "        vertical-align: middle;\n",
       "    }\n",
       "\n",
       "    .dataframe tbody tr th {\n",
       "        vertical-align: top;\n",
       "    }\n",
       "\n",
       "    .dataframe thead th {\n",
       "        text-align: right;\n",
       "    }\n",
       "</style>\n",
       "<table border=\"1\" class=\"dataframe\">\n",
       "  <thead>\n",
       "    <tr style=\"text-align: right;\">\n",
       "      <th></th>\n",
       "      <th>x1</th>\n",
       "      <th>x2</th>\n",
       "      <th>labels</th>\n",
       "    </tr>\n",
       "  </thead>\n",
       "  <tbody>\n",
       "    <tr>\n",
       "      <th>0</th>\n",
       "      <td>3.101741</td>\n",
       "      <td>0.595211</td>\n",
       "      <td>g</td>\n",
       "    </tr>\n",
       "    <tr>\n",
       "      <th>1</th>\n",
       "      <td>-0.286335</td>\n",
       "      <td>-0.343545</td>\n",
       "      <td>r</td>\n",
       "    </tr>\n",
       "    <tr>\n",
       "      <th>2</th>\n",
       "      <td>-0.306688</td>\n",
       "      <td>-0.380241</td>\n",
       "      <td>r</td>\n",
       "    </tr>\n",
       "    <tr>\n",
       "      <th>3</th>\n",
       "      <td>-0.193425</td>\n",
       "      <td>-0.202262</td>\n",
       "      <td>r</td>\n",
       "    </tr>\n",
       "    <tr>\n",
       "      <th>4</th>\n",
       "      <td>-1.316201</td>\n",
       "      <td>2.492034</td>\n",
       "      <td>b</td>\n",
       "    </tr>\n",
       "    <tr>\n",
       "      <th>5</th>\n",
       "      <td>-0.378115</td>\n",
       "      <td>-0.668427</td>\n",
       "      <td>r</td>\n",
       "    </tr>\n",
       "    <tr>\n",
       "      <th>6</th>\n",
       "      <td>-0.620978</td>\n",
       "      <td>-1.492770</td>\n",
       "      <td>r</td>\n",
       "    </tr>\n",
       "  </tbody>\n",
       "</table>\n",
       "</div>"
      ],
      "text/plain": [
       "         x1        x2 labels\n",
       "0  3.101741  0.595211      g\n",
       "1 -0.286335 -0.343545      r\n",
       "2 -0.306688 -0.380241      r\n",
       "3 -0.193425 -0.202262      r\n",
       "4 -1.316201  2.492034      b\n",
       "5 -0.378115 -0.668427      r\n",
       "6 -0.620978 -1.492770      r"
      ]
     },
     "execution_count": 28,
     "metadata": {},
     "output_type": "execute_result"
    }
   ],
   "source": [
    "df['labels'] = colors\n",
    "df"
   ]
  },
  {
   "cell_type": "markdown",
   "metadata": {},
   "source": [
    "## Zeiss - No Bias Boxes"
   ]
  },
  {
   "cell_type": "markdown",
   "metadata": {},
   "source": [
    "### Healthy"
   ]
  },
  {
   "cell_type": "code",
   "execution_count": null,
   "metadata": {},
   "outputs": [],
   "source": []
  },
  {
   "cell_type": "code",
   "execution_count": null,
   "metadata": {},
   "outputs": [],
   "source": []
  },
  {
   "cell_type": "code",
   "execution_count": null,
   "metadata": {},
   "outputs": [],
   "source": []
  }
 ],
 "metadata": {
  "kernelspec": {
   "display_name": "sana-env",
   "language": "python",
   "name": "sana-env"
  },
  "language_info": {
   "codemirror_mode": {
    "name": "ipython",
    "version": 3
   },
   "file_extension": ".py",
   "mimetype": "text/x-python",
   "name": "python",
   "nbconvert_exporter": "python",
   "pygments_lexer": "ipython3",
   "version": "3.10.4"
  }
 },
 "nbformat": 4,
 "nbformat_minor": 4
}

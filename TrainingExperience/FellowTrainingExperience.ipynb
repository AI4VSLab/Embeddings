{
 "cells": [
  {
   "cell_type": "code",
   "execution_count": 1,
   "metadata": {},
   "outputs": [],
   "source": [
    "#Import Libraries\n",
    "from sklearn.decomposition import PCA\n",
    "from sklearn.cluster import KMeans\n",
    "import numpy as np\n",
    "import matplotlib.pyplot as plt\n",
    "import pandas as pd\n",
    "from sgt import SGT\n",
    "import os "
   ]
  },
  {
   "cell_type": "markdown",
   "metadata": {},
   "source": [
    "# Training Experience: Fellow: Subjects 8"
   ]
  },
  {
   "cell_type": "markdown",
   "metadata": {},
   "source": [
    "## Top Con - No Bias Boxes"
   ]
  },
  {
   "cell_type": "markdown",
   "metadata": {},
   "source": [
    "### Healthy"
   ]
  },
  {
   "cell_type": "code",
   "execution_count": 27,
   "metadata": {},
   "outputs": [],
   "source": [
    "#Read Corpus\n",
    "path8 = 'TOP_CON/Healthy/Healthy(8)/'\n",
    "paths = [path8]\n",
    "\n",
    "\n",
    "def load_files(path):\n",
    "    for i in path:\n",
    "        path_i = os.listdir(i)\n",
    "        for filename in path_i:\n",
    "            if filename!='.ipynb_checkpoints': \n",
    "                new_path = i + filename \n",
    "                yield pd.read_csv(new_path)\n",
    "\n",
    "\n",
    "corpus_healthy = pd.concat(load_files(paths))\n"
   ]
  },
  {
   "cell_type": "code",
   "execution_count": 28,
   "metadata": {},
   "outputs": [],
   "source": [
    "def equal_boxes(x,y):\n",
    "    arr = []\n",
    "    for i,j in zip(x,y):\n",
    "        if 0<i and 0.25 > i and 0<j and 0.25 > j: \n",
    "            arr.append('A')\n",
    "        elif 0.25<i and 0.5 > i and 0<j and 0.25 > j: \n",
    "            arr.append('B')\n",
    "        elif 0.5<i and 0.75 > i and 0<j and 0.25 > j: \n",
    "            arr.append('C')\n",
    "        elif 0.75<i and 1 > i and 0<j and 0.25 > j: \n",
    "            arr.append('D')\n",
    "        elif 0<i and 0.25 > i and 0.25<j and 0.5 > j: \n",
    "            arr.append('E')\n",
    "        elif 0.25<i and 0.5 > i and 0.25<j and 0.5 > j: \n",
    "            arr.append('F')\n",
    "        elif 0.5<i and 0.75 > i and 0.25<j and 0.5 > j: \n",
    "            arr.append('G')\n",
    "        elif 0.75<i and 1 > i and 0.25<j and 0.5 > j: \n",
    "            arr.append('H')\n",
    "        elif 0<i and 0.25 > i and 0.5<j and 0.75 > j: \n",
    "            arr.append('I')\n",
    "        elif 0.25<i and 0.5 > i and 0.5<j and 0.75 > j: \n",
    "            arr.append('J')\n",
    "        elif 0.5<i and 0.75 > i and 0.5<j and 0.75 > j: \n",
    "            arr.append('K')\n",
    "        elif 0.75<i and 1 > i and 0.5<j and 0.75 > j: \n",
    "            arr.append('L')\n",
    "        elif 0<i and 0.25 > i and 0.75<j and 1 > j: \n",
    "            arr.append('M')\n",
    "        elif 0.25<i and 0.5 > i and 0.75<j and 1 > j: \n",
    "            arr.append('N')\n",
    "        elif 0.5<i and 0.75 > i and 0.75<j and 1 > j: \n",
    "            arr.append('O')\n",
    "        elif 0.75<i and 1 > i and 0.75<j and 1 > j: \n",
    "            arr.append('P')\n",
    "        else: \n",
    "            arr.append('error')\n",
    "    return arr\n",
    "\n",
    "x = corpus_healthy.norm_pos_x\n",
    "y = corpus_healthy.norm_pos_y\n",
    "arr = equal_boxes(x,y)"
   ]
  },
  {
   "cell_type": "code",
   "execution_count": 29,
   "metadata": {},
   "outputs": [
    {
     "data": {
      "text/html": [
       "<div>\n",
       "<style scoped>\n",
       "    .dataframe tbody tr th:only-of-type {\n",
       "        vertical-align: middle;\n",
       "    }\n",
       "\n",
       "    .dataframe tbody tr th {\n",
       "        vertical-align: top;\n",
       "    }\n",
       "\n",
       "    .dataframe thead th {\n",
       "        text-align: right;\n",
       "    }\n",
       "</style>\n",
       "<table border=\"1\" class=\"dataframe\">\n",
       "  <thead>\n",
       "    <tr style=\"text-align: right;\">\n",
       "      <th></th>\n",
       "      <th>id</th>\n",
       "      <th>sequence</th>\n",
       "    </tr>\n",
       "  </thead>\n",
       "  <tbody>\n",
       "    <tr>\n",
       "      <th>0</th>\n",
       "      <td>1</td>\n",
       "      <td>[55]</td>\n",
       "    </tr>\n",
       "    <tr>\n",
       "      <th>1</th>\n",
       "      <td>2</td>\n",
       "      <td>[45, 851, 851]</td>\n",
       "    </tr>\n",
       "    <tr>\n",
       "      <th>2</th>\n",
       "      <td>3</td>\n",
       "      <td>[44, 777]</td>\n",
       "    </tr>\n",
       "    <tr>\n",
       "      <th>3</th>\n",
       "      <td>4</td>\n",
       "      <td>[51, 240, 819, 353, 187]</td>\n",
       "    </tr>\n",
       "    <tr>\n",
       "      <th>4</th>\n",
       "      <td>5</td>\n",
       "      <td>[778, 780, 780]</td>\n",
       "    </tr>\n",
       "    <tr>\n",
       "      <th>5</th>\n",
       "      <td>6</td>\n",
       "      <td>[44, 45, 238, 821, 852, 775, 775, 775, 776, 77...</td>\n",
       "    </tr>\n",
       "    <tr>\n",
       "      <th>6</th>\n",
       "      <td>7</td>\n",
       "      <td>[59, 238, 240, 820, 820, 822, 822, 746, 352, 3...</td>\n",
       "    </tr>\n",
       "    <tr>\n",
       "      <th>7</th>\n",
       "      <td>8</td>\n",
       "      <td>[49, 50, 819, 820, 745, 353, 357, 850, 850, 77...</td>\n",
       "    </tr>\n",
       "    <tr>\n",
       "      <th>8</th>\n",
       "      <td>9</td>\n",
       "      <td>[851]</td>\n",
       "    </tr>\n",
       "    <tr>\n",
       "      <th>9</th>\n",
       "      <td>10</td>\n",
       "      <td>[41, 46, 46, 46, 47, 48, 48, 53, 53, 57, 58, 5...</td>\n",
       "    </tr>\n",
       "    <tr>\n",
       "      <th>10</th>\n",
       "      <td>11</td>\n",
       "      <td>[42, 42, 42, 56, 56, 57, 59, 239, 239, 817, 81...</td>\n",
       "    </tr>\n",
       "    <tr>\n",
       "      <th>11</th>\n",
       "      <td>12</td>\n",
       "      <td>[354, 774, 289]</td>\n",
       "    </tr>\n",
       "    <tr>\n",
       "      <th>12</th>\n",
       "      <td>13</td>\n",
       "      <td>[]</td>\n",
       "    </tr>\n",
       "    <tr>\n",
       "      <th>13</th>\n",
       "      <td>14</td>\n",
       "      <td>[47]</td>\n",
       "    </tr>\n",
       "    <tr>\n",
       "      <th>14</th>\n",
       "      <td>15</td>\n",
       "      <td>[47]</td>\n",
       "    </tr>\n",
       "    <tr>\n",
       "      <th>15</th>\n",
       "      <td>16</td>\n",
       "      <td>[43]</td>\n",
       "    </tr>\n",
       "  </tbody>\n",
       "</table>\n",
       "</div>"
      ],
      "text/plain": [
       "    id                                           sequence\n",
       "0    1                                               [55]\n",
       "1    2                                     [45, 851, 851]\n",
       "2    3                                          [44, 777]\n",
       "3    4                           [51, 240, 819, 353, 187]\n",
       "4    5                                    [778, 780, 780]\n",
       "5    6  [44, 45, 238, 821, 852, 775, 775, 775, 776, 77...\n",
       "6    7  [59, 238, 240, 820, 820, 822, 822, 746, 352, 3...\n",
       "7    8  [49, 50, 819, 820, 745, 353, 357, 850, 850, 77...\n",
       "8    9                                              [851]\n",
       "9   10  [41, 46, 46, 46, 47, 48, 48, 53, 53, 57, 58, 5...\n",
       "10  11  [42, 42, 42, 56, 56, 57, 59, 239, 239, 817, 81...\n",
       "11  12                                    [354, 774, 289]\n",
       "12  13                                                 []\n",
       "13  14                                               [47]\n",
       "14  15                                               [47]\n",
       "15  16                                               [43]"
      ]
     },
     "execution_count": 29,
     "metadata": {},
     "output_type": "execute_result"
    }
   ],
   "source": [
    "def make_corpus(corpus_new):\n",
    "    A = np.array(corpus_new.fixation_id[corpus_new.letters=='A'])\n",
    "    B = np.array(corpus_new.fixation_id[corpus_new.letters=='B'])\n",
    "    C = np.array(corpus_new.fixation_id[corpus_new.letters=='C'])\n",
    "    D = np.array(corpus_new.fixation_id[corpus_new.letters=='D'])\n",
    "    E = np.array(corpus_new.fixation_id[corpus_new.letters=='E'])\n",
    "    F = np.array(corpus_new.fixation_id[corpus_new.letters=='F'])\n",
    "    G = np.array(corpus_new.fixation_id[corpus_new.letters=='G'])\n",
    "    H = np.array(corpus_new.fixation_id[corpus_new.letters=='H'])\n",
    "    I = np.array(corpus_new.fixation_id[corpus_new.letters=='I'])\n",
    "    J = np.array(corpus_new.fixation_id[corpus_new.letters=='J'])\n",
    "    K = np.array(corpus_new.fixation_id[corpus_new.letters=='K'])\n",
    "    L = np.array(corpus_new.fixation_id[corpus_new.letters=='L'])\n",
    "    M = np.array(corpus_new.fixation_id[corpus_new.letters=='M'])\n",
    "    N = np.array(corpus_new.fixation_id[corpus_new.letters=='N'])\n",
    "    O = np.array(corpus_new.fixation_id[corpus_new.letters=='O'])\n",
    "    P = np.array(corpus_new.fixation_id[corpus_new.letters=='P'])\n",
    "    corpus = pd.DataFrame([[1, A], \n",
    "                           [2, B],\n",
    "                           [3, C], \n",
    "                           [4, D], \n",
    "                           [5, E], \n",
    "                           [6, F],\n",
    "                           [7, G], \n",
    "                           [8, H], \n",
    "                           [9, I], \n",
    "                           [10, J],\n",
    "                           [11, K], \n",
    "                           [12, L], \n",
    "                           [13, M], \n",
    "                           [14, N],\n",
    "                           [15, O], \n",
    "                           [16, P]], \n",
    "                          columns=['id', 'sequence'])\n",
    "    return corpus\n",
    "\n",
    "corpus = corpus_healthy\n",
    "corpus['letters'] = arr\n",
    "corpus_new = corpus[['letters', 'fixation_id']]\n",
    "corpus= make_corpus(corpus_new)\n",
    "corpus"
   ]
  },
  {
   "cell_type": "code",
   "execution_count": 5,
   "metadata": {},
   "outputs": [
    {
     "name": "stdout",
     "output_type": "stream",
     "text": [
      "INFO: Pandarallel will run on 31 workers.\n",
      "INFO: Pandarallel will use Memory file system to transfer data between the main process and workers.\n"
     ]
    }
   ],
   "source": [
    "sgt_ = SGT(kappa=1, \n",
    "           lengthsensitive=False, \n",
    "           mode='multiprocessing')\n",
    "sgtembedding_df = sgt_.fit_transform(corpus)\n",
    "sgtembedding_df = sgtembedding_df.set_index('id')\n"
   ]
  },
  {
   "cell_type": "code",
   "execution_count": 6,
   "metadata": {},
   "outputs": [],
   "source": [
    "pca = PCA(n_components=2)\n",
    "pca.fit(sgtembedding_df)\n",
    "X=pca.transform(sgtembedding_df)\n",
    "\n",
    "df = pd.DataFrame(data=X, columns=['x1', 'x2'])\n"
   ]
  },
  {
   "cell_type": "code",
   "execution_count": 7,
   "metadata": {},
   "outputs": [
    {
     "name": "stderr",
     "output_type": "stream",
     "text": [
      "/home/sanmati/miniconda3/envs/sana-env/lib/python3.10/site-packages/sklearn/cluster/_kmeans.py:870: FutureWarning: The default value of `n_init` will change from 10 to 'auto' in 1.4. Set the value of `n_init` explicitly to suppress the warning\n",
      "  warnings.warn(\n"
     ]
    },
    {
     "data": {
      "text/plain": [
       "<matplotlib.collections.PathCollection at 0x7f3648d75e10>"
      ]
     },
     "execution_count": 7,
     "metadata": {},
     "output_type": "execute_result"
    },
    {
     "data": {
      "image/png": "[encoded data removed]",
      "text/plain": [
       "<Figure size 360x360 with 1 Axes>"
      ]
     },
     "metadata": {
      "needs_background": "light"
     },
     "output_type": "display_data"
    }
   ],
   "source": [
    "kmeans = KMeans(n_clusters=3, max_iter =300)\n",
    "kmeans.fit(df)\n",
    "\n",
    "labels = kmeans.predict(df)\n",
    "centroids = kmeans.cluster_centers_\n",
    "\n",
    "fig = plt.figure(figsize=(5, 5))\n",
    "colmap = {1: 'red', 2: 'green', 3: 'blue', 4: 'orange'}\n",
    "colors = list(map(lambda x: colmap[x+1], labels))\n",
    "plt.scatter(df['x1'], df['x2'], color=colors, alpha=0.5, edgecolor=colors)"
   ]
  },
  {
   "cell_type": "code",
   "execution_count": 8,
   "metadata": {},
   "outputs": [
    {
     "data": {
      "text/html": [
       "<div>\n",
       "<style scoped>\n",
       "    .dataframe tbody tr th:only-of-type {\n",
       "        vertical-align: middle;\n",
       "    }\n",
       "\n",
       "    .dataframe tbody tr th {\n",
       "        vertical-align: top;\n",
       "    }\n",
       "\n",
       "    .dataframe thead th {\n",
       "        text-align: right;\n",
       "    }\n",
       "</style>\n",
       "<table border=\"1\" class=\"dataframe\">\n",
       "  <thead>\n",
       "    <tr style=\"text-align: right;\">\n",
       "      <th></th>\n",
       "      <th>x1</th>\n",
       "      <th>x2</th>\n",
       "      <th>labels</th>\n",
       "    </tr>\n",
       "  </thead>\n",
       "  <tbody>\n",
       "    <tr>\n",
       "      <th>0</th>\n",
       "      <td>-0.092045</td>\n",
       "      <td>-0.013626</td>\n",
       "      <td>red</td>\n",
       "    </tr>\n",
       "    <tr>\n",
       "      <th>1</th>\n",
       "      <td>-0.097132</td>\n",
       "      <td>-0.014962</td>\n",
       "      <td>red</td>\n",
       "    </tr>\n",
       "    <tr>\n",
       "      <th>2</th>\n",
       "      <td>-0.095451</td>\n",
       "      <td>-0.014510</td>\n",
       "      <td>red</td>\n",
       "    </tr>\n",
       "    <tr>\n",
       "      <th>3</th>\n",
       "      <td>-0.110632</td>\n",
       "      <td>-0.004389</td>\n",
       "      <td>red</td>\n",
       "    </tr>\n",
       "    <tr>\n",
       "      <th>4</th>\n",
       "      <td>-0.097132</td>\n",
       "      <td>-0.014962</td>\n",
       "      <td>red</td>\n",
       "    </tr>\n",
       "    <tr>\n",
       "      <th>5</th>\n",
       "      <td>-0.198829</td>\n",
       "      <td>-0.161510</td>\n",
       "      <td>red</td>\n",
       "    </tr>\n",
       "    <tr>\n",
       "      <th>6</th>\n",
       "      <td>-0.204036</td>\n",
       "      <td>-0.731097</td>\n",
       "      <td>red</td>\n",
       "    </tr>\n",
       "    <tr>\n",
       "      <th>7</th>\n",
       "      <td>-0.215365</td>\n",
       "      <td>1.266195</td>\n",
       "      <td>blue</td>\n",
       "    </tr>\n",
       "    <tr>\n",
       "      <th>8</th>\n",
       "      <td>-0.092045</td>\n",
       "      <td>-0.013626</td>\n",
       "      <td>red</td>\n",
       "    </tr>\n",
       "    <tr>\n",
       "      <th>9</th>\n",
       "      <td>-0.206164</td>\n",
       "      <td>-0.242076</td>\n",
       "      <td>red</td>\n",
       "    </tr>\n",
       "    <tr>\n",
       "      <th>10</th>\n",
       "      <td>1.876646</td>\n",
       "      <td>0.014729</td>\n",
       "      <td>green</td>\n",
       "    </tr>\n",
       "    <tr>\n",
       "      <th>11</th>\n",
       "      <td>-0.099636</td>\n",
       "      <td>-0.015661</td>\n",
       "      <td>red</td>\n",
       "    </tr>\n",
       "    <tr>\n",
       "      <th>12</th>\n",
       "      <td>-0.092045</td>\n",
       "      <td>-0.013626</td>\n",
       "      <td>red</td>\n",
       "    </tr>\n",
       "    <tr>\n",
       "      <th>13</th>\n",
       "      <td>-0.092045</td>\n",
       "      <td>-0.013626</td>\n",
       "      <td>red</td>\n",
       "    </tr>\n",
       "    <tr>\n",
       "      <th>14</th>\n",
       "      <td>-0.092045</td>\n",
       "      <td>-0.013626</td>\n",
       "      <td>red</td>\n",
       "    </tr>\n",
       "    <tr>\n",
       "      <th>15</th>\n",
       "      <td>-0.092045</td>\n",
       "      <td>-0.013626</td>\n",
       "      <td>red</td>\n",
       "    </tr>\n",
       "  </tbody>\n",
       "</table>\n",
       "</div>"
      ],
      "text/plain": [
       "          x1        x2 labels\n",
       "0  -0.092045 -0.013626    red\n",
       "1  -0.097132 -0.014962    red\n",
       "2  -0.095451 -0.014510    red\n",
       "3  -0.110632 -0.004389    red\n",
       "4  -0.097132 -0.014962    red\n",
       "5  -0.198829 -0.161510    red\n",
       "6  -0.204036 -0.731097    red\n",
       "7  -0.215365  1.266195   blue\n",
       "8  -0.092045 -0.013626    red\n",
       "9  -0.206164 -0.242076    red\n",
       "10  1.876646  0.014729  green\n",
       "11 -0.099636 -0.015661    red\n",
       "12 -0.092045 -0.013626    red\n",
       "13 -0.092045 -0.013626    red\n",
       "14 -0.092045 -0.013626    red\n",
       "15 -0.092045 -0.013626    red"
      ]
     },
     "execution_count": 8,
     "metadata": {},
     "output_type": "execute_result"
    }
   ],
   "source": [
    "df['labels'] = colors\n",
    "df"
   ]
  },
  {
   "cell_type": "markdown",
   "metadata": {},
   "source": [
    "### Glaucoma"
   ]
  },
  {
   "cell_type": "code",
   "execution_count": 9,
   "metadata": {},
   "outputs": [],
   "source": [
    "#Read Corpus\n",
    "path8 = 'TOP_CON/Glaucoma/Glaucoma(8)/'\n",
    "paths = [path8]\n",
    "\n",
    "\n",
    "def load_files(path):\n",
    "    for i in path:\n",
    "        path_i = os.listdir(i)\n",
    "        for filename in path_i:\n",
    "            if filename!='.ipynb_checkpoints': \n",
    "                new_path = i + filename \n",
    "                yield pd.read_csv(new_path)\n",
    "\n",
    "\n",
    "corpus_diseased = pd.concat(load_files(paths))\n",
    "\n"
   ]
  },
  {
   "cell_type": "code",
   "execution_count": 10,
   "metadata": {},
   "outputs": [],
   "source": [
    "x = corpus_diseased.norm_pos_x\n",
    "y = corpus_diseased.norm_pos_y\n",
    "arr = equal_boxes(x,y)\n",
    "\n",
    "corpus = corpus_diseased\n",
    "corpus['letters'] = arr\n",
    "corpus_new = corpus[['letters', 'fixation_id']]\n",
    "corpus= make_corpus(corpus_new)"
   ]
  },
  {
   "cell_type": "code",
   "execution_count": 11,
   "metadata": {},
   "outputs": [
    {
     "name": "stdout",
     "output_type": "stream",
     "text": [
      "INFO: Pandarallel will run on 31 workers.\n",
      "INFO: Pandarallel will use Memory file system to transfer data between the main process and workers.\n"
     ]
    }
   ],
   "source": [
    "sgt_ = SGT(kappa=1, \n",
    "           lengthsensitive=False, \n",
    "           mode='multiprocessing')\n",
    "sgtembedding_df = sgt_.fit_transform(corpus)\n",
    "sgtembedding_df = sgtembedding_df.set_index('id')"
   ]
  },
  {
   "cell_type": "code",
   "execution_count": 12,
   "metadata": {},
   "outputs": [],
   "source": [
    "pca = PCA(n_components=2)\n",
    "pca.fit(sgtembedding_df)\n",
    "X=pca.transform(sgtembedding_df)\n",
    "\n",
    "df = pd.DataFrame(data=X, columns=['x1', 'x2'])"
   ]
  },
  {
   "cell_type": "code",
   "execution_count": 13,
   "metadata": {},
   "outputs": [
    {
     "name": "stderr",
     "output_type": "stream",
     "text": [
      "/home/sanmati/miniconda3/envs/sana-env/lib/python3.10/site-packages/sklearn/cluster/_kmeans.py:870: FutureWarning: The default value of `n_init` will change from 10 to 'auto' in 1.4. Set the value of `n_init` explicitly to suppress the warning\n",
      "  warnings.warn(\n"
     ]
    },
    {
     "data": {
      "text/plain": [
       "<matplotlib.collections.PathCollection at 0x7f3638b8c4c0>"
      ]
     },
     "execution_count": 13,
     "metadata": {},
     "output_type": "execute_result"
    },
    {
     "data": {
      "image/png": "[encoded data removed]",
      "text/plain": [
       "<Figure size 360x360 with 1 Axes>"
      ]
     },
     "metadata": {
      "needs_background": "light"
     },
     "output_type": "display_data"
    }
   ],
   "source": [
    "kmeans = KMeans(n_clusters=3, max_iter =300)\n",
    "kmeans.fit(df)\n",
    "\n",
    "labels = kmeans.predict(df)\n",
    "centroids = kmeans.cluster_centers_\n",
    "\n",
    "fig = plt.figure(figsize=(5, 5))\n",
    "colmap = {1: 'red', 2: 'green', 3: 'blue', 4: 'orange'}\n",
    "colors = list(map(lambda x: colmap[x+1], labels))\n",
    "plt.scatter(df['x1'], df['x2'], color=colors, alpha=0.5, edgecolor=colors)"
   ]
  },
  {
   "cell_type": "code",
   "execution_count": 14,
   "metadata": {},
   "outputs": [
    {
     "data": {
      "text/html": [
       "<div>\n",
       "<style scoped>\n",
       "    .dataframe tbody tr th:only-of-type {\n",
       "        vertical-align: middle;\n",
       "    }\n",
       "\n",
       "    .dataframe tbody tr th {\n",
       "        vertical-align: top;\n",
       "    }\n",
       "\n",
       "    .dataframe thead th {\n",
       "        text-align: right;\n",
       "    }\n",
       "</style>\n",
       "<table border=\"1\" class=\"dataframe\">\n",
       "  <thead>\n",
       "    <tr style=\"text-align: right;\">\n",
       "      <th></th>\n",
       "      <th>x1</th>\n",
       "      <th>x2</th>\n",
       "      <th>labels</th>\n",
       "    </tr>\n",
       "  </thead>\n",
       "  <tbody>\n",
       "    <tr>\n",
       "      <th>0</th>\n",
       "      <td>-0.161298</td>\n",
       "      <td>-0.087616</td>\n",
       "      <td>red</td>\n",
       "    </tr>\n",
       "    <tr>\n",
       "      <th>1</th>\n",
       "      <td>-0.205971</td>\n",
       "      <td>0.116852</td>\n",
       "      <td>red</td>\n",
       "    </tr>\n",
       "    <tr>\n",
       "      <th>2</th>\n",
       "      <td>-0.016757</td>\n",
       "      <td>-0.075533</td>\n",
       "      <td>red</td>\n",
       "    </tr>\n",
       "    <tr>\n",
       "      <th>3</th>\n",
       "      <td>-0.189542</td>\n",
       "      <td>-0.179928</td>\n",
       "      <td>red</td>\n",
       "    </tr>\n",
       "    <tr>\n",
       "      <th>4</th>\n",
       "      <td>-0.202989</td>\n",
       "      <td>-0.148652</td>\n",
       "      <td>red</td>\n",
       "    </tr>\n",
       "    <tr>\n",
       "      <th>5</th>\n",
       "      <td>-0.344804</td>\n",
       "      <td>1.822131</td>\n",
       "      <td>blue</td>\n",
       "    </tr>\n",
       "    <tr>\n",
       "      <th>6</th>\n",
       "      <td>-0.169330</td>\n",
       "      <td>-0.893904</td>\n",
       "      <td>red</td>\n",
       "    </tr>\n",
       "    <tr>\n",
       "      <th>7</th>\n",
       "      <td>2.645306</td>\n",
       "      <td>0.114831</td>\n",
       "      <td>green</td>\n",
       "    </tr>\n",
       "    <tr>\n",
       "      <th>8</th>\n",
       "      <td>-0.158102</td>\n",
       "      <td>-0.082238</td>\n",
       "      <td>red</td>\n",
       "    </tr>\n",
       "    <tr>\n",
       "      <th>9</th>\n",
       "      <td>-0.259732</td>\n",
       "      <td>-0.079863</td>\n",
       "      <td>red</td>\n",
       "    </tr>\n",
       "    <tr>\n",
       "      <th>10</th>\n",
       "      <td>-0.200380</td>\n",
       "      <td>-0.139142</td>\n",
       "      <td>red</td>\n",
       "    </tr>\n",
       "    <tr>\n",
       "      <th>11</th>\n",
       "      <td>-0.155479</td>\n",
       "      <td>-0.079486</td>\n",
       "      <td>red</td>\n",
       "    </tr>\n",
       "    <tr>\n",
       "      <th>12</th>\n",
       "      <td>-0.132989</td>\n",
       "      <td>-0.058967</td>\n",
       "      <td>red</td>\n",
       "    </tr>\n",
       "    <tr>\n",
       "      <th>13</th>\n",
       "      <td>-0.180909</td>\n",
       "      <td>-0.109643</td>\n",
       "      <td>red</td>\n",
       "    </tr>\n",
       "    <tr>\n",
       "      <th>14</th>\n",
       "      <td>-0.136125</td>\n",
       "      <td>-0.061512</td>\n",
       "      <td>red</td>\n",
       "    </tr>\n",
       "    <tr>\n",
       "      <th>15</th>\n",
       "      <td>-0.130901</td>\n",
       "      <td>-0.057331</td>\n",
       "      <td>red</td>\n",
       "    </tr>\n",
       "  </tbody>\n",
       "</table>\n",
       "</div>"
      ],
      "text/plain": [
       "          x1        x2 labels\n",
       "0  -0.161298 -0.087616    red\n",
       "1  -0.205971  0.116852    red\n",
       "2  -0.016757 -0.075533    red\n",
       "3  -0.189542 -0.179928    red\n",
       "4  -0.202989 -0.148652    red\n",
       "5  -0.344804  1.822131   blue\n",
       "6  -0.169330 -0.893904    red\n",
       "7   2.645306  0.114831  green\n",
       "8  -0.158102 -0.082238    red\n",
       "9  -0.259732 -0.079863    red\n",
       "10 -0.200380 -0.139142    red\n",
       "11 -0.155479 -0.079486    red\n",
       "12 -0.132989 -0.058967    red\n",
       "13 -0.180909 -0.109643    red\n",
       "14 -0.136125 -0.061512    red\n",
       "15 -0.130901 -0.057331    red"
      ]
     },
     "execution_count": 14,
     "metadata": {},
     "output_type": "execute_result"
    }
   ],
   "source": [
    "df['labels'] = colors\n",
    "df"
   ]
  },
  {
   "cell_type": "markdown",
   "metadata": {},
   "source": [
    "## Top Con -  Bias Boxes"
   ]
  },
  {
   "cell_type": "markdown",
   "metadata": {},
   "source": [
    "### Healthy"
   ]
  },
  {
   "cell_type": "code",
   "execution_count": 33,
   "metadata": {},
   "outputs": [],
   "source": [
    "def bias_boxes(x,y): \n",
    "    arr = []\n",
    "    for i,j in zip(x,y):\n",
    "        if 0<i and 0.6 > i and 0<j and 0.6 > j: \n",
    "            arr.append('A')\n",
    "        elif 0<i and 0.25 > i and 0.6<j and 1 > j: \n",
    "            arr.append('B')\n",
    "        elif 0.25<i and 0.48 > i and 0.6<j and 1 > j: \n",
    "            arr.append('C')\n",
    "        elif 0.48<i and 0.6 > i and 0.6<j and 1 > j: \n",
    "            arr.append('D')\n",
    "        elif 0.6<i and 1 > i and 0<j and 0.6 > j: \n",
    "            arr.append('E')\n",
    "        elif 0.6<i and 0.77 > i and 0.6<j and 1 > j: \n",
    "            arr.append('F')\n",
    "        elif 0.77<i and 1 > i and 0.6<j and 1 > j: \n",
    "            arr.append('G')\n",
    "        else: \n",
    "            arr.append('error')\n",
    "            \n",
    "    return arr\n",
    "\n",
    "x = corpus_healthy.norm_pos_x\n",
    "y = corpus_healthy.norm_pos_y\n",
    "arr = bias_boxes(x,y)\n",
    "\n"
   ]
  },
  {
   "cell_type": "code",
   "execution_count": 34,
   "metadata": {},
   "outputs": [
    {
     "data": {
      "text/html": [
       "<div>\n",
       "<style scoped>\n",
       "    .dataframe tbody tr th:only-of-type {\n",
       "        vertical-align: middle;\n",
       "    }\n",
       "\n",
       "    .dataframe tbody tr th {\n",
       "        vertical-align: top;\n",
       "    }\n",
       "\n",
       "    .dataframe thead tr th {\n",
       "        text-align: left;\n",
       "    }\n",
       "</style>\n",
       "<table border=\"1\" class=\"dataframe\">\n",
       "  <thead>\n",
       "    <tr>\n",
       "      <th></th>\n",
       "      <th>region</th>\n",
       "      <th>fixation ids</th>\n",
       "    </tr>\n",
       "  </thead>\n",
       "  <tbody>\n",
       "    <tr>\n",
       "      <th>0</th>\n",
       "      <td>1</td>\n",
       "      <td>[41, 42, 42, 44, 44, 45, 45, 47, 53, 55, 58, 5...</td>\n",
       "    </tr>\n",
       "    <tr>\n",
       "      <th>1</th>\n",
       "      <td>2</td>\n",
       "      <td>[851]</td>\n",
       "    </tr>\n",
       "    <tr>\n",
       "      <th>2</th>\n",
       "      <td>3</td>\n",
       "      <td>[46, 46, 46, 47, 48, 48, 53, 58, 821, 747]</td>\n",
       "    </tr>\n",
       "    <tr>\n",
       "      <th>3</th>\n",
       "      <td>4</td>\n",
       "      <td>[42, 57, 57, 852, 853, 853, 853, 412, 417, 293]</td>\n",
       "    </tr>\n",
       "    <tr>\n",
       "      <th>4</th>\n",
       "      <td>5</td>\n",
       "      <td>[49, 50, 51, 240, 240, 817, 817, 818, 818, 819...</td>\n",
       "    </tr>\n",
       "    <tr>\n",
       "      <th>5</th>\n",
       "      <td>6</td>\n",
       "      <td>[47, 56, 56, 358, 409, 409, 411, 411, 412, 412...</td>\n",
       "    </tr>\n",
       "    <tr>\n",
       "      <th>6</th>\n",
       "      <td>7</td>\n",
       "      <td>[43, 354]</td>\n",
       "    </tr>\n",
       "  </tbody>\n",
       "</table>\n",
       "</div>"
      ],
      "text/plain": [
       "  region                                       fixation ids\n",
       "0      1  [41, 42, 42, 44, 44, 45, 45, 47, 53, 55, 58, 5...\n",
       "1      2                                              [851]\n",
       "2      3         [46, 46, 46, 47, 48, 48, 53, 58, 821, 747]\n",
       "3      4    [42, 57, 57, 852, 853, 853, 853, 412, 417, 293]\n",
       "4      5  [49, 50, 51, 240, 240, 817, 817, 818, 818, 819...\n",
       "5      6  [47, 56, 56, 358, 409, 409, 411, 411, 412, 412...\n",
       "6      7                                          [43, 354]"
      ]
     },
     "execution_count": 34,
     "metadata": {},
     "output_type": "execute_result"
    }
   ],
   "source": [
    "def make_corpus_2(corpus_new): \n",
    "    A = np.array(corpus_new.fixation_id[corpus_new.letters=='A'])\n",
    "    B = np.array(corpus_new.fixation_id[corpus_new.letters=='B'])\n",
    "    C = np.array(corpus_new.fixation_id[corpus_new.letters=='C'])\n",
    "    D = np.array(corpus_new.fixation_id[corpus_new.letters=='D'])\n",
    "    E = np.array(corpus_new.fixation_id[corpus_new.letters=='E'])\n",
    "    F = np.array(corpus_new.fixation_id[corpus_new.letters=='F'])\n",
    "    G = np.array(corpus_new.fixation_id[corpus_new.letters=='G'])\n",
    "    corpus = pd.DataFrame([[1, A], \n",
    "                           [2, B],\n",
    "                           [3, C], \n",
    "                           [4, D], \n",
    "                           [5, E], \n",
    "                           [6, F],\n",
    "                           [7, G]], columns=['id', 'sequence'])\n",
    "    return corpus\n",
    "\n",
    "corpus = corpus_healthy\n",
    "corpus['letters'] = arr\n",
    "corpus_new = corpus[['letters', 'fixation_id']]\n",
    "corpus= make_corpus_2(corpus_new)\n",
    "corpus.columns = [['region', 'fixation ids']]\n",
    "corpus"
   ]
  },
  {
   "cell_type": "code",
   "execution_count": 17,
   "metadata": {},
   "outputs": [
    {
     "name": "stdout",
     "output_type": "stream",
     "text": [
      "INFO: Pandarallel will run on 31 workers.\n",
      "INFO: Pandarallel will use Memory file system to transfer data between the main process and workers.\n"
     ]
    }
   ],
   "source": [
    "sgt_ = SGT(kappa=1, \n",
    "           lengthsensitive=False, \n",
    "           mode='multiprocessing')\n",
    "sgtembedding_df = sgt_.fit_transform(corpus)\n",
    "sgtembedding_df = sgtembedding_df.set_index('id')\n"
   ]
  },
  {
   "cell_type": "code",
   "execution_count": 18,
   "metadata": {},
   "outputs": [
    {
     "name": "stdout",
     "output_type": "stream",
     "text": [
      "0.8006886712133215\n"
     ]
    },
    {
     "data": {
      "text/html": [
       "<div>\n",
       "<style scoped>\n",
       "    .dataframe tbody tr th:only-of-type {\n",
       "        vertical-align: middle;\n",
       "    }\n",
       "\n",
       "    .dataframe tbody tr th {\n",
       "        vertical-align: top;\n",
       "    }\n",
       "\n",
       "    .dataframe thead th {\n",
       "        text-align: right;\n",
       "    }\n",
       "</style>\n",
       "<table border=\"1\" class=\"dataframe\">\n",
       "  <thead>\n",
       "    <tr style=\"text-align: right;\">\n",
       "      <th></th>\n",
       "      <th>x1</th>\n",
       "      <th>x2</th>\n",
       "    </tr>\n",
       "  </thead>\n",
       "  <tbody>\n",
       "    <tr>\n",
       "      <th>0</th>\n",
       "      <td>2.227776</td>\n",
       "      <td>0.159392</td>\n",
       "    </tr>\n",
       "    <tr>\n",
       "      <th>1</th>\n",
       "      <td>-0.298278</td>\n",
       "      <td>-0.272322</td>\n",
       "    </tr>\n",
       "    <tr>\n",
       "      <th>2</th>\n",
       "      <td>-0.317550</td>\n",
       "      <td>-0.369422</td>\n",
       "    </tr>\n",
       "    <tr>\n",
       "      <th>3</th>\n",
       "      <td>-0.342161</td>\n",
       "      <td>-0.360576</td>\n",
       "    </tr>\n",
       "    <tr>\n",
       "      <th>4</th>\n",
       "      <td>-0.592279</td>\n",
       "      <td>1.564018</td>\n",
       "    </tr>\n",
       "    <tr>\n",
       "      <th>5</th>\n",
       "      <td>-0.372171</td>\n",
       "      <td>-0.436267</td>\n",
       "    </tr>\n",
       "    <tr>\n",
       "      <th>6</th>\n",
       "      <td>-0.305338</td>\n",
       "      <td>-0.284822</td>\n",
       "    </tr>\n",
       "  </tbody>\n",
       "</table>\n",
       "</div>"
      ],
      "text/plain": [
       "         x1        x2\n",
       "0  2.227776  0.159392\n",
       "1 -0.298278 -0.272322\n",
       "2 -0.317550 -0.369422\n",
       "3 -0.342161 -0.360576\n",
       "4 -0.592279  1.564018\n",
       "5 -0.372171 -0.436267\n",
       "6 -0.305338 -0.284822"
      ]
     },
     "execution_count": 18,
     "metadata": {},
     "output_type": "execute_result"
    }
   ],
   "source": [
    "pca = PCA(n_components=2)\n",
    "pca.fit(sgtembedding_df)\n",
    "X=pca.transform(sgtembedding_df)\n",
    "\n",
    "print(np.sum(pca.explained_variance_ratio_))\n",
    "df = pd.DataFrame(data=X, columns=['x1', 'x2'])\n",
    "df"
   ]
  },
  {
   "cell_type": "code",
   "execution_count": 19,
   "metadata": {},
   "outputs": [
    {
     "name": "stderr",
     "output_type": "stream",
     "text": [
      "/home/sanmati/miniconda3/envs/sana-env/lib/python3.10/site-packages/sklearn/cluster/_kmeans.py:870: FutureWarning: The default value of `n_init` will change from 10 to 'auto' in 1.4. Set the value of `n_init` explicitly to suppress the warning\n",
      "  warnings.warn(\n"
     ]
    },
    {
     "data": {
      "text/plain": [
       "<matplotlib.collections.PathCollection at 0x7f3592730100>"
      ]
     },
     "execution_count": 19,
     "metadata": {},
     "output_type": "execute_result"
    },
    {
     "data": {
      "image/png": "[encoded data removed]",
      "text/plain": [
       "<Figure size 360x360 with 1 Axes>"
      ]
     },
     "metadata": {
      "needs_background": "light"
     },
     "output_type": "display_data"
    }
   ],
   "source": [
    "kmeans = KMeans(n_clusters=3, max_iter =300)\n",
    "kmeans.fit(df)\n",
    "\n",
    "labels = kmeans.predict(df)\n",
    "centroids = kmeans.cluster_centers_\n",
    "\n",
    "fig = plt.figure(figsize=(5, 5))\n",
    "colmap = {1: 'r', 2: 'g', 3: 'b'}\n",
    "colors = list(map(lambda x: colmap[x+1], labels))\n",
    "plt.scatter(df['x1'], df['x2'], color=colors, alpha=0.5, edgecolor=colors)"
   ]
  },
  {
   "cell_type": "code",
   "execution_count": 20,
   "metadata": {},
   "outputs": [
    {
     "data": {
      "text/html": [
       "<div>\n",
       "<style scoped>\n",
       "    .dataframe tbody tr th:only-of-type {\n",
       "        vertical-align: middle;\n",
       "    }\n",
       "\n",
       "    .dataframe tbody tr th {\n",
       "        vertical-align: top;\n",
       "    }\n",
       "\n",
       "    .dataframe thead th {\n",
       "        text-align: right;\n",
       "    }\n",
       "</style>\n",
       "<table border=\"1\" class=\"dataframe\">\n",
       "  <thead>\n",
       "    <tr style=\"text-align: right;\">\n",
       "      <th></th>\n",
       "      <th>x1</th>\n",
       "      <th>x2</th>\n",
       "      <th>labels</th>\n",
       "    </tr>\n",
       "  </thead>\n",
       "  <tbody>\n",
       "    <tr>\n",
       "      <th>0</th>\n",
       "      <td>2.227776</td>\n",
       "      <td>0.159392</td>\n",
       "      <td>g</td>\n",
       "    </tr>\n",
       "    <tr>\n",
       "      <th>1</th>\n",
       "      <td>-0.298278</td>\n",
       "      <td>-0.272322</td>\n",
       "      <td>r</td>\n",
       "    </tr>\n",
       "    <tr>\n",
       "      <th>2</th>\n",
       "      <td>-0.317550</td>\n",
       "      <td>-0.369422</td>\n",
       "      <td>r</td>\n",
       "    </tr>\n",
       "    <tr>\n",
       "      <th>3</th>\n",
       "      <td>-0.342161</td>\n",
       "      <td>-0.360576</td>\n",
       "      <td>r</td>\n",
       "    </tr>\n",
       "    <tr>\n",
       "      <th>4</th>\n",
       "      <td>-0.592279</td>\n",
       "      <td>1.564018</td>\n",
       "      <td>b</td>\n",
       "    </tr>\n",
       "    <tr>\n",
       "      <th>5</th>\n",
       "      <td>-0.372171</td>\n",
       "      <td>-0.436267</td>\n",
       "      <td>r</td>\n",
       "    </tr>\n",
       "    <tr>\n",
       "      <th>6</th>\n",
       "      <td>-0.305338</td>\n",
       "      <td>-0.284822</td>\n",
       "      <td>r</td>\n",
       "    </tr>\n",
       "  </tbody>\n",
       "</table>\n",
       "</div>"
      ],
      "text/plain": [
       "         x1        x2 labels\n",
       "0  2.227776  0.159392      g\n",
       "1 -0.298278 -0.272322      r\n",
       "2 -0.317550 -0.369422      r\n",
       "3 -0.342161 -0.360576      r\n",
       "4 -0.592279  1.564018      b\n",
       "5 -0.372171 -0.436267      r\n",
       "6 -0.305338 -0.284822      r"
      ]
     },
     "execution_count": 20,
     "metadata": {},
     "output_type": "execute_result"
    }
   ],
   "source": [
    "df['labels'] = colors\n",
    "df"
   ]
  },
  {
   "cell_type": "markdown",
   "metadata": {},
   "source": [
    "### Glaucoma"
   ]
  },
  {
   "cell_type": "code",
   "execution_count": 21,
   "metadata": {},
   "outputs": [],
   "source": [
    "x = corpus_diseased.norm_pos_x\n",
    "y = corpus_diseased.norm_pos_y\n",
    "arr = bias_boxes(x,y)\n",
    "\n",
    "corpus = corpus_diseased\n",
    "corpus['letters'] = arr\n",
    "corpus_new = corpus[['letters', 'fixation_id']]\n",
    "corpus= make_corpus_2(corpus_new)"
   ]
  },
  {
   "cell_type": "code",
   "execution_count": 22,
   "metadata": {},
   "outputs": [
    {
     "name": "stdout",
     "output_type": "stream",
     "text": [
      "INFO: Pandarallel will run on 31 workers.\n",
      "INFO: Pandarallel will use Memory file system to transfer data between the main process and workers.\n"
     ]
    }
   ],
   "source": [
    "sgt_ = SGT(kappa=1, \n",
    "           lengthsensitive=False, \n",
    "           mode='multiprocessing')\n",
    "sgtembedding_df = sgt_.fit_transform(corpus)\n",
    "sgtembedding_df = sgtembedding_df.set_index('id')\n"
   ]
  },
  {
   "cell_type": "code",
   "execution_count": 23,
   "metadata": {},
   "outputs": [
    {
     "name": "stdout",
     "output_type": "stream",
     "text": [
      "0.7926586059463396\n"
     ]
    },
    {
     "data": {
      "text/html": [
       "<div>\n",
       "<style scoped>\n",
       "    .dataframe tbody tr th:only-of-type {\n",
       "        vertical-align: middle;\n",
       "    }\n",
       "\n",
       "    .dataframe tbody tr th {\n",
       "        vertical-align: top;\n",
       "    }\n",
       "\n",
       "    .dataframe thead th {\n",
       "        text-align: right;\n",
       "    }\n",
       "</style>\n",
       "<table border=\"1\" class=\"dataframe\">\n",
       "  <thead>\n",
       "    <tr style=\"text-align: right;\">\n",
       "      <th></th>\n",
       "      <th>x1</th>\n",
       "      <th>x2</th>\n",
       "    </tr>\n",
       "  </thead>\n",
       "  <tbody>\n",
       "    <tr>\n",
       "      <th>0</th>\n",
       "      <td>3.030362</td>\n",
       "      <td>0.715536</td>\n",
       "    </tr>\n",
       "    <tr>\n",
       "      <th>1</th>\n",
       "      <td>-0.347118</td>\n",
       "      <td>-0.636282</td>\n",
       "    </tr>\n",
       "    <tr>\n",
       "      <th>2</th>\n",
       "      <td>-0.364777</td>\n",
       "      <td>-0.752693</td>\n",
       "    </tr>\n",
       "    <tr>\n",
       "      <th>3</th>\n",
       "      <td>-0.337522</td>\n",
       "      <td>-0.613882</td>\n",
       "    </tr>\n",
       "    <tr>\n",
       "      <th>4</th>\n",
       "      <td>-1.309985</td>\n",
       "      <td>2.506121</td>\n",
       "    </tr>\n",
       "    <tr>\n",
       "      <th>5</th>\n",
       "      <td>-0.361004</td>\n",
       "      <td>-0.670846</td>\n",
       "    </tr>\n",
       "    <tr>\n",
       "      <th>6</th>\n",
       "      <td>-0.309956</td>\n",
       "      <td>-0.547955</td>\n",
       "    </tr>\n",
       "  </tbody>\n",
       "</table>\n",
       "</div>"
      ],
      "text/plain": [
       "         x1        x2\n",
       "0  3.030362  0.715536\n",
       "1 -0.347118 -0.636282\n",
       "2 -0.364777 -0.752693\n",
       "3 -0.337522 -0.613882\n",
       "4 -1.309985  2.506121\n",
       "5 -0.361004 -0.670846\n",
       "6 -0.309956 -0.547955"
      ]
     },
     "execution_count": 23,
     "metadata": {},
     "output_type": "execute_result"
    }
   ],
   "source": [
    "pca = PCA(n_components=2)\n",
    "pca.fit(sgtembedding_df)\n",
    "X=pca.transform(sgtembedding_df)\n",
    "\n",
    "print(np.sum(pca.explained_variance_ratio_))\n",
    "df = pd.DataFrame(data=X, columns=['x1', 'x2'])\n",
    "df"
   ]
  },
  {
   "cell_type": "code",
   "execution_count": 24,
   "metadata": {},
   "outputs": [
    {
     "name": "stderr",
     "output_type": "stream",
     "text": [
      "/home/sanmati/miniconda3/envs/sana-env/lib/python3.10/site-packages/sklearn/cluster/_kmeans.py:870: FutureWarning: The default value of `n_init` will change from 10 to 'auto' in 1.4. Set the value of `n_init` explicitly to suppress the warning\n",
      "  warnings.warn(\n"
     ]
    },
    {
     "data": {
      "text/plain": [
       "<matplotlib.collections.PathCollection at 0x7f35926f5210>"
      ]
     },
     "execution_count": 24,
     "metadata": {},
     "output_type": "execute_result"
    },
    {
     "data": {
      "image/png": "[encoded data removed]",
      "text/plain": [
       "<Figure size 360x360 with 1 Axes>"
      ]
     },
     "metadata": {
      "needs_background": "light"
     },
     "output_type": "display_data"
    }
   ],
   "source": [
    "kmeans = KMeans(n_clusters=3, max_iter =300)\n",
    "kmeans.fit(df)\n",
    "\n",
    "labels = kmeans.predict(df)\n",
    "centroids = kmeans.cluster_centers_\n",
    "\n",
    "fig = plt.figure(figsize=(5, 5))\n",
    "colmap = {1: 'r', 2: 'g', 3: 'b'}\n",
    "colors = list(map(lambda x: colmap[x+1], labels))\n",
    "plt.scatter(df['x1'], df['x2'], color=colors, alpha=0.5, edgecolor=colors)"
   ]
  },
  {
   "cell_type": "code",
   "execution_count": 25,
   "metadata": {},
   "outputs": [
    {
     "data": {
      "text/html": [
       "<div>\n",
       "<style scoped>\n",
       "    .dataframe tbody tr th:only-of-type {\n",
       "        vertical-align: middle;\n",
       "    }\n",
       "\n",
       "    .dataframe tbody tr th {\n",
       "        vertical-align: top;\n",
       "    }\n",
       "\n",
       "    .dataframe thead th {\n",
       "        text-align: right;\n",
       "    }\n",
       "</style>\n",
       "<table border=\"1\" class=\"dataframe\">\n",
       "  <thead>\n",
       "    <tr style=\"text-align: right;\">\n",
       "      <th></th>\n",
       "      <th>x1</th>\n",
       "      <th>x2</th>\n",
       "      <th>labels</th>\n",
       "    </tr>\n",
       "  </thead>\n",
       "  <tbody>\n",
       "    <tr>\n",
       "      <th>0</th>\n",
       "      <td>3.030362</td>\n",
       "      <td>0.715536</td>\n",
       "      <td>g</td>\n",
       "    </tr>\n",
       "    <tr>\n",
       "      <th>1</th>\n",
       "      <td>-0.347118</td>\n",
       "      <td>-0.636282</td>\n",
       "      <td>r</td>\n",
       "    </tr>\n",
       "    <tr>\n",
       "      <th>2</th>\n",
       "      <td>-0.364777</td>\n",
       "      <td>-0.752693</td>\n",
       "      <td>r</td>\n",
       "    </tr>\n",
       "    <tr>\n",
       "      <th>3</th>\n",
       "      <td>-0.337522</td>\n",
       "      <td>-0.613882</td>\n",
       "      <td>r</td>\n",
       "    </tr>\n",
       "    <tr>\n",
       "      <th>4</th>\n",
       "      <td>-1.309985</td>\n",
       "      <td>2.506121</td>\n",
       "      <td>b</td>\n",
       "    </tr>\n",
       "    <tr>\n",
       "      <th>5</th>\n",
       "      <td>-0.361004</td>\n",
       "      <td>-0.670846</td>\n",
       "      <td>r</td>\n",
       "    </tr>\n",
       "    <tr>\n",
       "      <th>6</th>\n",
       "      <td>-0.309956</td>\n",
       "      <td>-0.547955</td>\n",
       "      <td>r</td>\n",
       "    </tr>\n",
       "  </tbody>\n",
       "</table>\n",
       "</div>"
      ],
      "text/plain": [
       "         x1        x2 labels\n",
       "0  3.030362  0.715536      g\n",
       "1 -0.347118 -0.636282      r\n",
       "2 -0.364777 -0.752693      r\n",
       "3 -0.337522 -0.613882      r\n",
       "4 -1.309985  2.506121      b\n",
       "5 -0.361004 -0.670846      r\n",
       "6 -0.309956 -0.547955      r"
      ]
     },
     "execution_count": 25,
     "metadata": {},
     "output_type": "execute_result"
    }
   ],
   "source": [
    "df['labels'] = colors\n",
    "df"
   ]
  },
  {
   "cell_type": "code",
   "execution_count": null,
   "metadata": {},
   "outputs": [],
   "source": []
  },
  {
   "cell_type": "code",
   "execution_count": null,
   "metadata": {},
   "outputs": [],
   "source": []
  }
 ],
 "metadata": {
  "kernelspec": {
   "display_name": "sana-env",
   "language": "python",
   "name": "sana-env"
  },
  "language_info": {
   "codemirror_mode": {
    "name": "ipython",
    "version": 3
   },
   "file_extension": ".py",
   "mimetype": "text/x-python",
   "name": "python",
   "nbconvert_exporter": "python",
   "pygments_lexer": "ipython3",
   "version": "3.10.4"
  }
 },
 "nbformat": 4,
 "nbformat_minor": 4
}

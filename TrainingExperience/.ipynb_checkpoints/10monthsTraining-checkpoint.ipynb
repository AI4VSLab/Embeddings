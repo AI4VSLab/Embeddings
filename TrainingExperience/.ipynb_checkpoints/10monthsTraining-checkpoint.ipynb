{
 "cells": [
  {
   "cell_type": "code",
   "execution_count": 1,
   "metadata": {},
   "outputs": [],
   "source": [
    "#Import Libraries\n",
    "from sklearn.decomposition import PCA\n",
    "from sklearn.cluster import KMeans\n",
    "import numpy as np\n",
    "import matplotlib.pyplot as plt\n",
    "import pandas as pd\n",
    "from sgt import SGT\n",
    "import os "
   ]
  },
  {
   "cell_type": "markdown",
   "metadata": {},
   "source": [
    "# Training Experience: 10-11 months: Subjects 1,3,5,6"
   ]
  },
  {
   "cell_type": "markdown",
   "metadata": {},
   "source": [
    "## Top Con - No Bias Boxes"
   ]
  },
  {
   "cell_type": "markdown",
   "metadata": {},
   "source": [
    "### Healthy"
   ]
  },
  {
   "cell_type": "code",
   "execution_count": 2,
   "metadata": {},
   "outputs": [],
   "source": [
    "#Read Corpus\n",
    "path13 = '../../TOP_CON/Healthy/Healthy(1,3)/'\n",
    "path5 = '../../TOP_CON/Healthy/Healthy(5)/'\n",
    "path6 = '../../TOP_CON/Healthy/Healthy(6)/'\n",
    "paths = [path13,path5, path6]\n",
    "\n",
    "\n",
    "def load_files(path):\n",
    "    for i in path:\n",
    "        path_i = os.listdir(i)\n",
    "        for filename in path_i:\n",
    "            if filename!='.ipynb_checkpoints': \n",
    "                new_path = i + filename \n",
    "                yield pd.read_csv(new_path)\n",
    "\n",
    "\n",
    "corpus_healthy = pd.concat(load_files(paths))\n"
   ]
  },
  {
   "cell_type": "code",
   "execution_count": 3,
   "metadata": {},
   "outputs": [],
   "source": [
    "def equal_boxes(x,y):\n",
    "    arr = []\n",
    "    for i,j in zip(x,y):\n",
    "        if 0<i and 0.25 > i and 0<j and 0.25 > j: \n",
    "            arr.append('A')\n",
    "        elif 0.25<i and 0.5 > i and 0<j and 0.25 > j: \n",
    "            arr.append('B')\n",
    "        elif 0.5<i and 0.75 > i and 0<j and 0.25 > j: \n",
    "            arr.append('C')\n",
    "        elif 0.75<i and 1 > i and 0<j and 0.25 > j: \n",
    "            arr.append('D')\n",
    "        elif 0<i and 0.25 > i and 0.25<j and 0.5 > j: \n",
    "            arr.append('E')\n",
    "        elif 0.25<i and 0.5 > i and 0.25<j and 0.5 > j: \n",
    "            arr.append('F')\n",
    "        elif 0.5<i and 0.75 > i and 0.25<j and 0.5 > j: \n",
    "            arr.append('G')\n",
    "        elif 0.75<i and 1 > i and 0.25<j and 0.5 > j: \n",
    "            arr.append('H')\n",
    "        elif 0<i and 0.25 > i and 0.5<j and 0.75 > j: \n",
    "            arr.append('I')\n",
    "        elif 0.25<i and 0.5 > i and 0.5<j and 0.75 > j: \n",
    "            arr.append('J')\n",
    "        elif 0.5<i and 0.75 > i and 0.5<j and 0.75 > j: \n",
    "            arr.append('K')\n",
    "        elif 0.75<i and 1 > i and 0.5<j and 0.75 > j: \n",
    "            arr.append('L')\n",
    "        elif 0<i and 0.25 > i and 0.75<j and 1 > j: \n",
    "            arr.append('M')\n",
    "        elif 0.25<i and 0.5 > i and 0.75<j and 1 > j: \n",
    "            arr.append('N')\n",
    "        elif 0.5<i and 0.75 > i and 0.75<j and 1 > j: \n",
    "            arr.append('O')\n",
    "        elif 0.75<i and 1 > i and 0.75<j and 1 > j: \n",
    "            arr.append('P')\n",
    "        else: \n",
    "            arr.append('error')\n",
    "    return arr\n",
    "\n",
    "x = corpus_healthy.norm_pos_x\n",
    "y = corpus_healthy.norm_pos_y\n",
    "arr = equal_boxes(x,y)"
   ]
  },
  {
   "cell_type": "code",
   "execution_count": 4,
   "metadata": {},
   "outputs": [],
   "source": [
    "def make_corpus(corpus_new):\n",
    "    A = np.array(corpus_new.fixation_id[corpus_new.letters=='A'])\n",
    "    B = np.array(corpus_new.fixation_id[corpus_new.letters=='B'])\n",
    "    C = np.array(corpus_new.fixation_id[corpus_new.letters=='C'])\n",
    "    D = np.array(corpus_new.fixation_id[corpus_new.letters=='D'])\n",
    "    E = np.array(corpus_new.fixation_id[corpus_new.letters=='E'])\n",
    "    F = np.array(corpus_new.fixation_id[corpus_new.letters=='F'])\n",
    "    G = np.array(corpus_new.fixation_id[corpus_new.letters=='G'])\n",
    "    H = np.array(corpus_new.fixation_id[corpus_new.letters=='H'])\n",
    "    I = np.array(corpus_new.fixation_id[corpus_new.letters=='I'])\n",
    "    J = np.array(corpus_new.fixation_id[corpus_new.letters=='J'])\n",
    "    K = np.array(corpus_new.fixation_id[corpus_new.letters=='K'])\n",
    "    L = np.array(corpus_new.fixation_id[corpus_new.letters=='L'])\n",
    "    M = np.array(corpus_new.fixation_id[corpus_new.letters=='M'])\n",
    "    N = np.array(corpus_new.fixation_id[corpus_new.letters=='N'])\n",
    "    O = np.array(corpus_new.fixation_id[corpus_new.letters=='O'])\n",
    "    P = np.array(corpus_new.fixation_id[corpus_new.letters=='P'])\n",
    "    corpus = pd.DataFrame([[1, A], \n",
    "                           [2, B],\n",
    "                           [3, C], \n",
    "                           [4, D], \n",
    "                           [5, E], \n",
    "                           [6, F],\n",
    "                           [7, G], \n",
    "                           [8, H], \n",
    "                           [9, I], \n",
    "                           [10, J],\n",
    "                           [11, K], \n",
    "                           [12, L], \n",
    "                           [13, M], \n",
    "                           [14, N],\n",
    "                           [15, O], \n",
    "                           [16, P]], \n",
    "                          columns=['id', 'sequence'])\n",
    "    return corpus\n",
    "\n",
    "corpus = corpus_healthy\n",
    "corpus['letters'] = arr\n",
    "corpus_new = corpus[['letters', 'fixation_id']]\n",
    "corpus= make_corpus(corpus_new)"
   ]
  },
  {
   "cell_type": "code",
   "execution_count": null,
   "metadata": {},
   "outputs": [
    {
     "name": "stdout",
     "output_type": "stream",
     "text": [
      "INFO: Pandarallel will run on 31 workers.\n",
      "INFO: Pandarallel will use Memory file system to transfer data between the main process and workers.\n"
     ]
    }
   ],
   "source": [
    "sgt_ = SGT(kappa=1, \n",
    "           lengthsensitive=False, \n",
    "           mode='multiprocessing')\n",
    "sgtembedding_df = sgt_.fit_transform(corpus)\n",
    "sgtembedding_df = sgtembedding_df.set_index('id')\n"
   ]
  },
  {
   "cell_type": "code",
   "execution_count": null,
   "metadata": {},
   "outputs": [],
   "source": [
    "pca = PCA(n_components=2)\n",
    "pca.fit(sgtembedding_df)\n",
    "X=pca.transform(sgtembedding_df)\n",
    "\n",
    "df = pd.DataFrame(data=X, columns=['x1', 'x2'])\n"
   ]
  },
  {
   "cell_type": "code",
   "execution_count": null,
   "metadata": {},
   "outputs": [],
   "source": [
    "kmeans = KMeans(n_clusters=4, max_iter =300)\n",
    "kmeans.fit(df)\n",
    "\n",
    "labels = kmeans.predict(df)\n",
    "centroids = kmeans.cluster_centers_\n",
    "\n",
    "fig = plt.figure(figsize=(5, 5))\n",
    "colmap = {1: 'red', 2: 'green', 3: 'blue', 4: 'orange'}\n",
    "colors = list(map(lambda x: colmap[x+1], labels))\n",
    "plt.scatter(df['x1'], df['x2'], color=colors, alpha=0.5, edgecolor=colors)"
   ]
  },
  {
   "cell_type": "code",
   "execution_count": null,
   "metadata": {},
   "outputs": [],
   "source": [
    "df['labels'] = colors\n",
    "df"
   ]
  },
  {
   "cell_type": "markdown",
   "metadata": {},
   "source": [
    "### Glaucoma"
   ]
  },
  {
   "cell_type": "code",
   "execution_count": null,
   "metadata": {},
   "outputs": [],
   "source": [
    "#Read Corpus\n",
    "path13 = '../../TOP_CON/Glaucoma/Glaucoma(1,3)/'\n",
    "path5 = '../../TOP_CON/Glaucoma/Glaucoma(5)/'\n",
    "path6 = '../../TOP_CON/Glaucoma/Glaucoma(6)/'\n",
    "paths = [path13,path5, path6]\n",
    "\n",
    "\n",
    "def load_files(path):\n",
    "    for i in path:\n",
    "        path_i = os.listdir(i)\n",
    "        for filename in path_i:\n",
    "            if filename!='.ipynb_checkpoints': \n",
    "                new_path = i + filename \n",
    "                yield pd.read_csv(new_path)\n",
    "\n",
    "\n",
    "corpus_diseased = pd.concat(load_files(paths))\n",
    "\n"
   ]
  },
  {
   "cell_type": "code",
   "execution_count": null,
   "metadata": {},
   "outputs": [],
   "source": [
    "x = corpus_diseased.norm_pos_x\n",
    "y = corpus_diseased.norm_pos_y\n",
    "arr = equal_boxes(x,y)\n",
    "\n",
    "corpus = corpus_diseased\n",
    "corpus['letters'] = arr\n",
    "corpus_new = corpus[['letters', 'fixation_id']]\n",
    "corpus= make_corpus(corpus_new)"
   ]
  },
  {
   "cell_type": "code",
   "execution_count": null,
   "metadata": {},
   "outputs": [],
   "source": [
    "sgt_ = SGT(kappa=1, \n",
    "           lengthsensitive=False, \n",
    "           mode='multiprocessing')\n",
    "sgtembedding_df = sgt_.fit_transform(corpus)\n",
    "sgtembedding_df = sgtembedding_df.set_index('id')"
   ]
  },
  {
   "cell_type": "code",
   "execution_count": null,
   "metadata": {},
   "outputs": [],
   "source": [
    "pca = PCA(n_components=2)\n",
    "pca.fit(sgtembedding_df)\n",
    "X=pca.transform(sgtembedding_df)\n",
    "\n",
    "df = pd.DataFrame(data=X, columns=['x1', 'x2'])"
   ]
  },
  {
   "cell_type": "code",
   "execution_count": null,
   "metadata": {},
   "outputs": [],
   "source": [
    "kmeans = KMeans(n_clusters=4, max_iter =300)\n",
    "kmeans.fit(df)\n",
    "\n",
    "labels = kmeans.predict(df)\n",
    "centroids = kmeans.cluster_centers_\n",
    "\n",
    "fig = plt.figure(figsize=(5, 5))\n",
    "colmap = {1: 'red', 2: 'green', 3: 'blue', 4: 'orange'}\n",
    "colors = list(map(lambda x: colmap[x+1], labels))\n",
    "plt.scatter(df['x1'], df['x2'], color=colors, alpha=0.5, edgecolor=colors)"
   ]
  },
  {
   "cell_type": "code",
   "execution_count": null,
   "metadata": {},
   "outputs": [],
   "source": [
    "df['labels'] = colors\n",
    "df"
   ]
  },
  {
   "cell_type": "markdown",
   "metadata": {},
   "source": [
    "## Top Con -  Bias Boxes"
   ]
  },
  {
   "cell_type": "markdown",
   "metadata": {},
   "source": [
    "### Healthy"
   ]
  },
  {
   "cell_type": "code",
   "execution_count": null,
   "metadata": {},
   "outputs": [],
   "source": [
    "def bias_boxes(x,y): \n",
    "    arr = []\n",
    "    for i,j in zip(x,y):\n",
    "        if 0<i and 0.6 > i and 0<j and 0.6 > j: \n",
    "            arr.append('A')\n",
    "        elif 0<i and 0.25 > i and 0.6<j and 1 > j: \n",
    "            arr.append('B')\n",
    "        elif 0.25<i and 0.48 > i and 0.6<j and 1 > j: \n",
    "            arr.append('C')\n",
    "        elif 0.48<i and 0.6 > i and 0.6<j and 1 > j: \n",
    "            arr.append('D')\n",
    "        elif 0.6<i and 1 > i and 0<j and 0.6 > j: \n",
    "            arr.append('E')\n",
    "        elif 0.6<i and 0.77 > i and 0.6<j and 1 > j: \n",
    "            arr.append('F')\n",
    "        elif 0.77<i and 1 > i and 0.6<j and 1 > j: \n",
    "            arr.append('G')\n",
    "        else: \n",
    "            arr.append('error')\n",
    "            \n",
    "    return arr\n",
    "\n",
    "x = corpus_healthy.norm_pos_x\n",
    "y = corpus_healthy.norm_pos_y\n",
    "arr = bias_boxes(x,y)\n",
    "\n"
   ]
  },
  {
   "cell_type": "code",
   "execution_count": null,
   "metadata": {},
   "outputs": [],
   "source": [
    "def make_corpus_2(corpus_new): \n",
    "    A = np.array(corpus_new.fixation_id[corpus_new.letters=='A'])\n",
    "    B = np.array(corpus_new.fixation_id[corpus_new.letters=='B'])\n",
    "    C = np.array(corpus_new.fixation_id[corpus_new.letters=='C'])\n",
    "    D = np.array(corpus_new.fixation_id[corpus_new.letters=='D'])\n",
    "    E = np.array(corpus_new.fixation_id[corpus_new.letters=='E'])\n",
    "    F = np.array(corpus_new.fixation_id[corpus_new.letters=='F'])\n",
    "    G = np.array(corpus_new.fixation_id[corpus_new.letters=='G'])\n",
    "    corpus = pd.DataFrame([[1, A], \n",
    "                           [2, B],\n",
    "                           [3, C], \n",
    "                           [4, D], \n",
    "                           [5, E], \n",
    "                           [6, F],\n",
    "                           [7, G]], columns=['id', 'sequence'])\n",
    "    return corpus\n",
    "\n",
    "corpus = corpus_healthy\n",
    "corpus['letters'] = arr\n",
    "corpus_new = corpus[['letters', 'fixation_id']]\n",
    "corpus= make_corpus_2(corpus_new)"
   ]
  },
  {
   "cell_type": "code",
   "execution_count": null,
   "metadata": {},
   "outputs": [],
   "source": [
    "sgt_ = SGT(kappa=1, \n",
    "           lengthsensitive=False, \n",
    "           mode='multiprocessing')\n",
    "sgtembedding_df = sgt_.fit_transform(corpus)\n",
    "sgtembedding_df = sgtembedding_df.set_index('id')\n"
   ]
  },
  {
   "cell_type": "code",
   "execution_count": null,
   "metadata": {},
   "outputs": [],
   "source": [
    "pca = PCA(n_components=2)\n",
    "pca.fit(sgtembedding_df)\n",
    "X=pca.transform(sgtembedding_df)\n",
    "\n",
    "print(np.sum(pca.explained_variance_ratio_))\n",
    "df = pd.DataFrame(data=X, columns=['x1', 'x2'])\n",
    "df"
   ]
  },
  {
   "cell_type": "code",
   "execution_count": null,
   "metadata": {},
   "outputs": [],
   "source": [
    "kmeans = KMeans(n_clusters=3, max_iter =300)\n",
    "kmeans.fit(df)\n",
    "\n",
    "labels = kmeans.predict(df)\n",
    "centroids = kmeans.cluster_centers_\n",
    "\n",
    "fig = plt.figure(figsize=(5, 5))\n",
    "colmap = {1: 'r', 2: 'g', 3: 'b'}\n",
    "colors = list(map(lambda x: colmap[x+1], labels))\n",
    "plt.scatter(df['x1'], df['x2'], color=colors, alpha=0.5, edgecolor=colors)"
   ]
  },
  {
   "cell_type": "code",
   "execution_count": null,
   "metadata": {},
   "outputs": [],
   "source": [
    "df['labels'] = colors\n",
    "df"
   ]
  },
  {
   "cell_type": "markdown",
   "metadata": {},
   "source": [
    "### Glaucoma"
   ]
  },
  {
   "cell_type": "code",
   "execution_count": null,
   "metadata": {},
   "outputs": [],
   "source": [
    "x = corpus_diseased.norm_pos_x\n",
    "y = corpus_diseased.norm_pos_y\n",
    "arr = bias_boxes(x,y)\n",
    "\n",
    "corpus = corpus_diseased\n",
    "corpus['letters'] = arr\n",
    "corpus_new = corpus[['letters', 'fixation_id']]\n",
    "corpus= make_corpus_2(corpus_new)"
   ]
  },
  {
   "cell_type": "code",
   "execution_count": null,
   "metadata": {},
   "outputs": [],
   "source": [
    "sgt_ = SGT(kappa=1, \n",
    "           lengthsensitive=False, \n",
    "           mode='multiprocessing')\n",
    "sgtembedding_df = sgt_.fit_transform(corpus)\n",
    "sgtembedding_df = sgtembedding_df.set_index('id')\n"
   ]
  },
  {
   "cell_type": "code",
   "execution_count": null,
   "metadata": {},
   "outputs": [],
   "source": [
    "pca = PCA(n_components=2)\n",
    "pca.fit(sgtembedding_df)\n",
    "X=pca.transform(sgtembedding_df)\n",
    "\n",
    "print(np.sum(pca.explained_variance_ratio_))\n",
    "df = pd.DataFrame(data=X, columns=['x1', 'x2'])\n",
    "df"
   ]
  },
  {
   "cell_type": "code",
   "execution_count": null,
   "metadata": {},
   "outputs": [],
   "source": [
    "kmeans = KMeans(n_clusters=3, max_iter =300)\n",
    "kmeans.fit(df)\n",
    "\n",
    "labels = kmeans.predict(df)\n",
    "centroids = kmeans.cluster_centers_\n",
    "\n",
    "fig = plt.figure(figsize=(5, 5))\n",
    "colmap = {1: 'r', 2: 'g', 3: 'b'}\n",
    "colors = list(map(lambda x: colmap[x+1], labels))\n",
    "plt.scatter(df['x1'], df['x2'], color=colors, alpha=0.5, edgecolor=colors)"
   ]
  },
  {
   "cell_type": "code",
   "execution_count": null,
   "metadata": {},
   "outputs": [],
   "source": [
    "df['labels'] = colors\n",
    "df"
   ]
  },
  {
   "cell_type": "markdown",
   "metadata": {},
   "source": [
    "## Zeiss - No Bias Boxes"
   ]
  },
  {
   "cell_type": "markdown",
   "metadata": {},
   "source": [
    "### Healthy"
   ]
  },
  {
   "cell_type": "code",
   "execution_count": null,
   "metadata": {},
   "outputs": [],
   "source": [
    "path13 = '../../Zeiss/Healthy/Healthy(3)/'\n",
    "path5 = '../../Zeiss/Healthy/Healthy(5)/'\n",
    "path6 = '../../Zeiss/Healthy/Healthy(6)/'\n",
    "paths = [path13,path5, path6]\n",
    "\n",
    "def load_files(path):\n",
    "    for i in path:\n",
    "        path_i = os.listdir(i)\n",
    "        for filename in path_i:\n",
    "            if filename!='.ipynb_checkpoints': \n",
    "                new_path = i + filename \n",
    "                yield pd.read_csv(new_path)\n",
    "\n",
    "\n",
    "corpus_healthy = pd.concat(load_files(paths))"
   ]
  },
  {
   "cell_type": "code",
   "execution_count": null,
   "metadata": {},
   "outputs": [],
   "source": [
    "x = corpus_healthy.norm_pos_x\n",
    "y = corpus_healthy.norm_pos_y\n",
    "arr = equal_boxes(x,y)\n",
    "\n",
    "corpus = corpus_healthy\n",
    "corpus['letters'] = arr\n",
    "corpus_new = corpus[['letters', 'fixation_id']]\n",
    "corpus= make_corpus(corpus_new)\n",
    "        "
   ]
  },
  {
   "cell_type": "code",
   "execution_count": null,
   "metadata": {},
   "outputs": [],
   "source": [
    "sgt_ = SGT(kappa=1, \n",
    "           lengthsensitive=False, \n",
    "           mode='multiprocessing')\n",
    "sgtembedding_df = sgt_.fit_transform(corpus)\n",
    "sgtembedding_df = sgtembedding_df.set_index('id')\n",
    "sgtembedding_df"
   ]
  },
  {
   "cell_type": "code",
   "execution_count": null,
   "metadata": {},
   "outputs": [],
   "source": [
    "pca = PCA(n_components=2)\n",
    "pca.fit(sgtembedding_df)\n",
    "X=pca.transform(sgtembedding_df)\n",
    "\n",
    "df = pd.DataFrame(data=X, columns=['x1', 'x2'])\n"
   ]
  },
  {
   "cell_type": "code",
   "execution_count": null,
   "metadata": {},
   "outputs": [],
   "source": [
    "kmeans = KMeans(n_clusters=4, max_iter =300)\n",
    "kmeans.fit(df)\n",
    "\n",
    "labels = kmeans.predict(df)\n",
    "centroids = kmeans.cluster_centers_\n",
    "\n",
    "fig = plt.figure(figsize=(5, 5))\n",
    "colmap = {1: 'r', 2: 'g', 3: 'b', 4: 'orange'}\n",
    "colors = list(map(lambda x: colmap[x+1], labels))\n",
    "plt.scatter(df['x1'], df['x2'], color=colors, alpha=0.5, edgecolor=colors)"
   ]
  },
  {
   "cell_type": "code",
   "execution_count": null,
   "metadata": {},
   "outputs": [],
   "source": [
    "df['labels'] = colors\n",
    "df"
   ]
  },
  {
   "cell_type": "markdown",
   "metadata": {},
   "source": [
    "### Glaucoma"
   ]
  },
  {
   "cell_type": "code",
   "execution_count": null,
   "metadata": {},
   "outputs": [],
   "source": [
    "path13 = '../../Zeiss/Glaucoma/Glaucoma(3)/'\n",
    "path5 = '../../Zeiss/Glaucoma/Glaucoma(5)/'\n",
    "path6 = '../../Zeiss/Glaucoma/Glaucoma(6)/'\n",
    "paths = [path13,path5, path6]\n",
    "\n",
    "def load_files(path):\n",
    "    for i in path:\n",
    "        path_i = os.listdir(i)\n",
    "        for filename in path_i:\n",
    "            if filename!='.ipynb_checkpoints': \n",
    "                new_path = i + filename \n",
    "                yield pd.read_csv(new_path)\n",
    "\n",
    "corpus_diseased = pd.concat(load_files(paths))"
   ]
  },
  {
   "cell_type": "code",
   "execution_count": null,
   "metadata": {},
   "outputs": [],
   "source": [
    "x = corpus_diseased.norm_pos_x\n",
    "y = corpus_diseased.norm_pos_y\n",
    "arr = equal_boxes(x,y)\n",
    "\n",
    "corpus = corpus_diseased\n",
    "corpus['letters'] = arr\n",
    "corpus_new = corpus[['letters', 'fixation_id']]\n",
    "corpus= make_corpus(corpus_new)\n",
    "        "
   ]
  },
  {
   "cell_type": "code",
   "execution_count": null,
   "metadata": {},
   "outputs": [],
   "source": [
    "sgt_ = SGT(kappa=1, \n",
    "           lengthsensitive=False, \n",
    "           mode='multiprocessing')\n",
    "sgtembedding_df = sgt_.fit_transform(corpus)\n",
    "sgtembedding_df = sgtembedding_df.set_index('id')\n",
    "sgtembedding_df"
   ]
  },
  {
   "cell_type": "code",
   "execution_count": null,
   "metadata": {},
   "outputs": [],
   "source": [
    "pca = PCA(n_components=2)\n",
    "pca.fit(sgtembedding_df)\n",
    "X=pca.transform(sgtembedding_df)\n",
    "\n",
    "df = pd.DataFrame(data=X, columns=['x1', 'x2'])"
   ]
  },
  {
   "cell_type": "code",
   "execution_count": null,
   "metadata": {},
   "outputs": [],
   "source": [
    "kmeans = KMeans(n_clusters=4, max_iter =300)\n",
    "kmeans.fit(df)\n",
    "\n",
    "labels = kmeans.predict(df)\n",
    "centroids = kmeans.cluster_centers_\n",
    "\n",
    "fig = plt.figure(figsize=(5, 5))\n",
    "colmap = {1: 'r', 2: 'g', 3: 'b', 4: 'orange'}\n",
    "colors = list(map(lambda x: colmap[x+1], labels))\n",
    "plt.scatter(df['x1'], df['x2'], color=colors, alpha=0.5, edgecolor=colors)"
   ]
  },
  {
   "cell_type": "code",
   "execution_count": null,
   "metadata": {},
   "outputs": [],
   "source": [
    "df['labels'] = colors\n",
    "df"
   ]
  },
  {
   "cell_type": "markdown",
   "metadata": {},
   "source": [
    "## Zeiss - Bias Boxes"
   ]
  },
  {
   "cell_type": "markdown",
   "metadata": {},
   "source": [
    "### Right Side - Healthy"
   ]
  },
  {
   "cell_type": "code",
   "execution_count": null,
   "metadata": {},
   "outputs": [],
   "source": [
    "path13 = '../../Zeiss/Healthy/Healthy(3)/'\n",
    "path5 = '../../Zeiss/Healthy/Healthy(5)/'\n",
    "path6 = '../../Zeiss/Healthy/Healthy(6)/'\n",
    "paths = [path13,path5, path6]\n",
    "\n",
    "left = ['8919', '9059', '8960', '9187', '9238', '8914', '8974', '8981', '9025', '9071', '9172', '8904', '8955']\n",
    "right = ['9189', '8994', '8924', '9175', '8909', '9061', '9084', '9189', 'RNFL']\n",
    "\n",
    "def load_files_left(path):\n",
    "    for i in path:\n",
    "        path_i = os.listdir(i)\n",
    "        for filename in path_i:\n",
    "            if filename!='.ipynb_checkpoints': \n",
    "                if filename[-8:-4]  in left: \n",
    "                    new_path = i + filename \n",
    "                    yield pd.read_csv(new_path)\n",
    "                    \n",
    "def load_files_right(path): \n",
    "    for i in path:\n",
    "        path_i = os.listdir(i)\n",
    "        for filename in path_i:\n",
    "            if filename!='.ipynb_checkpoints': \n",
    "                if filename[-8:-4]  in right: \n",
    "                    new_path = i + filename \n",
    "                    yield pd.read_csv(new_path)\n",
    "\n",
    "corpus_healthy = pd.concat(load_files_right(paths))\n"
   ]
  },
  {
   "cell_type": "code",
   "execution_count": null,
   "metadata": {},
   "outputs": [],
   "source": [
    "def bias_boxes_zeiss_right(x,y):\n",
    "    arr = []\n",
    "    for i,j in zip(x,y):\n",
    "        if 0<i and 0.61 > i and 0<j and .275 > j: \n",
    "            arr.append('A')\n",
    "        elif 0.61<i and 1 > i and 0<j and .25 > j: \n",
    "            arr.append('B')\n",
    "        elif 0.61<i and 1 > i and .25<j and .5 > j: \n",
    "            arr.append('C')\n",
    "        elif 0.61<i and 1 > i and 0.5<j and 1 > j: \n",
    "            arr.append('D')\n",
    "        elif 0.23<i and 0.61 > i and 0.7<j and 1 > j: \n",
    "            arr.append('E')\n",
    "        elif 0<i and 0.61 > i and 0.5<j and 0.7 > j: \n",
    "            arr.append('F')\n",
    "        else: \n",
    "            arr.append('error')\n",
    "    return arr\n",
    "\n",
    "def bias_boxes_zeiss_left(x,y): \n",
    "    arr = []\n",
    "    for i,j in zip(x,y):\n",
    "        if 0<i and 0.4 > i and 0<j and .2 > j: \n",
    "            arr.append('A')\n",
    "        elif 0<i and 0.4 > i and 0.2<j and .5 > j: \n",
    "            arr.append('B')\n",
    "        elif 0.0<i and 0.4 > i and 0.5<j and 1 > j: \n",
    "            arr.append('C')\n",
    "        elif 0.4<i and 0.8 > i and 0<j and 0.25 > j: \n",
    "            arr.append('D')\n",
    "        elif 0.4<i and 1 > i and 0.5<j and 0.71 > j: \n",
    "            arr.append('E')\n",
    "        elif 0.4<i and 0.8 > i and 0.71<j and 1 > j: \n",
    "            arr.append('F')\n",
    "        else: \n",
    "            arr.append('error')\n",
    "    return arr\n",
    "\n",
    "def make_corpus_3(corpus_new):\n",
    "    A = np.array(corpus_new.fixation_id[corpus_new.letters=='A'])\n",
    "    B = np.array(corpus_new.fixation_id[corpus_new.letters=='B'])\n",
    "    C = np.array(corpus_new.fixation_id[corpus_new.letters=='C'])\n",
    "    D = np.array(corpus_new.fixation_id[corpus_new.letters=='D'])\n",
    "    E = np.array(corpus_new.fixation_id[corpus_new.letters=='E'])\n",
    "    F = np.array(corpus_new.fixation_id[corpus_new.letters=='F'])\n",
    "    corpus = pd.DataFrame([[1, A], \n",
    "                           [2, B],\n",
    "                           [3, C], \n",
    "                           [4, D], \n",
    "                           [5, E], \n",
    "                           [6, F]], columns=['id', 'sequence'])\n",
    "    return corpus\n",
    "\n",
    "x = corpus_healthy.norm_pos_x\n",
    "y = corpus_healthy.norm_pos_y\n",
    "arr = bias_boxes_zeiss_right(x,y)\n",
    "\n",
    "corpus = corpus_healthy\n",
    "corpus['letters'] = arr\n",
    "corpus_new = corpus[['letters', 'fixation_id']]\n",
    "corpus= make_corpus_3(corpus_new)"
   ]
  },
  {
   "cell_type": "code",
   "execution_count": null,
   "metadata": {},
   "outputs": [],
   "source": [
    "sgt_ = SGT(kappa=1, \n",
    "           lengthsensitive=False, \n",
    "           mode='multiprocessing')\n",
    "sgtembedding_df = sgt_.fit_transform(corpus)\n",
    "sgtembedding_df = sgtembedding_df.set_index('id')\n"
   ]
  },
  {
   "cell_type": "code",
   "execution_count": null,
   "metadata": {},
   "outputs": [],
   "source": [
    "pca = PCA(n_components=2)\n",
    "pca.fit(sgtembedding_df)\n",
    "X=pca.transform(sgtembedding_df)\n",
    "\n",
    "df = pd.DataFrame(data=X, columns=['x1', 'x2'])"
   ]
  },
  {
   "cell_type": "code",
   "execution_count": null,
   "metadata": {},
   "outputs": [],
   "source": [
    "kmeans = KMeans(n_clusters=4, max_iter =300)\n",
    "kmeans.fit(df)\n",
    "\n",
    "labels = kmeans.predict(df)\n",
    "centroids = kmeans.cluster_centers_\n",
    "\n",
    "fig = plt.figure(figsize=(5, 5))\n",
    "colmap = {1: 'r', 2: 'g', 3: 'b', 4: 'orange'}\n",
    "colors = list(map(lambda x: colmap[x+1], labels))\n",
    "plt.scatter(df['x1'], df['x2'], color=colors, alpha=0.5, edgecolor=colors)"
   ]
  },
  {
   "cell_type": "code",
   "execution_count": null,
   "metadata": {},
   "outputs": [],
   "source": [
    "df['labels'] = colors\n",
    "df"
   ]
  },
  {
   "cell_type": "markdown",
   "metadata": {},
   "source": [
    "### Right Side - Glaucoma"
   ]
  },
  {
   "cell_type": "code",
   "execution_count": null,
   "metadata": {},
   "outputs": [],
   "source": [
    "path13 = '../../Zeiss/Glaucoma/Glaucoma(3)/'\n",
    "path5 = '../../Zeiss/Glaucoma/Glaucoma(5)/'\n",
    "path6 = '../../Zeiss/Glaucoma/Glaucoma(6)/'\n",
    "paths = [path13,path5, path6]\n",
    "\n",
    "left = ['8919', '9059', '8960', '9187', '9238', '8914', '8974', '8981', '9025', '9071', '9172', '8904', '8955']\n",
    "right = ['9189', '8994', '8924', '9175', '8909', '9061', '9084', '9189', 'RNFL']\n",
    "\n",
    "corpus_diseased = pd.concat(load_files_right(paths))"
   ]
  },
  {
   "cell_type": "code",
   "execution_count": null,
   "metadata": {},
   "outputs": [],
   "source": [
    "x = corpus_diseased.norm_pos_x\n",
    "y = corpus_diseased.norm_pos_y\n",
    "arr = bias_boxes_zeiss_right(x,y)\n",
    "\n",
    "corpus = corpus_diseased\n",
    "corpus['letters'] = arr\n",
    "corpus_new = corpus[['letters', 'fixation_id']]\n",
    "corpus= make_corpus_3(corpus_new)"
   ]
  },
  {
   "cell_type": "code",
   "execution_count": null,
   "metadata": {},
   "outputs": [],
   "source": [
    "sgt_ = SGT(kappa=1, \n",
    "           lengthsensitive=False, \n",
    "           mode='multiprocessing')\n",
    "sgtembedding_df = sgt_.fit_transform(corpus)\n",
    "sgtembedding_df = sgtembedding_df.set_index('id')\n"
   ]
  },
  {
   "cell_type": "code",
   "execution_count": null,
   "metadata": {},
   "outputs": [],
   "source": [
    "pca = PCA(n_components=2)\n",
    "pca.fit(sgtembedding_df)\n",
    "X=pca.transform(sgtembedding_df)\n",
    "\n",
    "df = pd.DataFrame(data=X, columns=['x1', 'x2'])"
   ]
  },
  {
   "cell_type": "code",
   "execution_count": null,
   "metadata": {},
   "outputs": [],
   "source": [
    "kmeans = KMeans(n_clusters=3, max_iter =300)\n",
    "kmeans.fit(df)\n",
    "\n",
    "labels = kmeans.predict(df)\n",
    "centroids = kmeans.cluster_centers_\n",
    "\n",
    "fig = plt.figure(figsize=(5, 5))\n",
    "colmap = {1: 'r', 2: 'g', 3: 'b', 4: 'orange'}\n",
    "colors = list(map(lambda x: colmap[x+1], labels))\n",
    "plt.scatter(df['x1'], df['x2'], color=colors, alpha=0.5, edgecolor=colors)"
   ]
  },
  {
   "cell_type": "code",
   "execution_count": null,
   "metadata": {},
   "outputs": [],
   "source": [
    "df['labels'] = colors\n",
    "df"
   ]
  },
  {
   "cell_type": "markdown",
   "metadata": {},
   "source": [
    "### Left Side - Healthy"
   ]
  },
  {
   "cell_type": "code",
   "execution_count": null,
   "metadata": {},
   "outputs": [],
   "source": [
    "path13 = '../../Zeiss/Healthy/Healthy(3)/'\n",
    "path5 = '../../Zeiss/Healthy/Healthy(5)/'\n",
    "path5 = '../../Zeiss/Healthy/Healthy(6)/'\n",
    "paths = [path13,path5, path6]\n",
    "corpus_healthy = pd.concat(load_files_left(paths))\n"
   ]
  },
  {
   "cell_type": "code",
   "execution_count": null,
   "metadata": {},
   "outputs": [],
   "source": [
    "x = corpus_healthy.norm_pos_x\n",
    "y = corpus_healthy.norm_pos_y\n",
    "arr = bias_boxes_zeiss_left(x,y)\n",
    "\n",
    "corpus = corpus_healthy\n",
    "corpus['letters'] = arr\n",
    "corpus_new = corpus[['letters', 'fixation_id']]\n",
    "corpus= make_corpus_3(corpus_new)"
   ]
  },
  {
   "cell_type": "code",
   "execution_count": null,
   "metadata": {},
   "outputs": [],
   "source": [
    "sgt_ = SGT(kappa=1, \n",
    "           lengthsensitive=False, \n",
    "           mode='multiprocessing')\n",
    "sgtembedding_df = sgt_.fit_transform(corpus)\n",
    "sgtembedding_df = sgtembedding_df.set_index('id')\n"
   ]
  },
  {
   "cell_type": "code",
   "execution_count": null,
   "metadata": {},
   "outputs": [],
   "source": [
    "pca = PCA(n_components=2)\n",
    "pca.fit(sgtembedding_df)\n",
    "X=pca.transform(sgtembedding_df)\n",
    "\n",
    "df = pd.DataFrame(data=X, columns=['x1', 'x2'])"
   ]
  },
  {
   "cell_type": "code",
   "execution_count": null,
   "metadata": {},
   "outputs": [],
   "source": [
    "kmeans = KMeans(n_clusters=3, max_iter =300)\n",
    "kmeans.fit(df)\n",
    "\n",
    "labels = kmeans.predict(df)\n",
    "centroids = kmeans.cluster_centers_\n",
    "\n",
    "fig = plt.figure(figsize=(5, 5))\n",
    "colmap = {1: 'r', 2: 'g', 3: 'b', 4: 'orange'}\n",
    "colors = list(map(lambda x: colmap[x+1], labels))\n",
    "plt.scatter(df['x1'], df['x2'], color=colors, alpha=0.5, edgecolor=colors)"
   ]
  },
  {
   "cell_type": "code",
   "execution_count": null,
   "metadata": {},
   "outputs": [],
   "source": [
    "df['labels'] = colors\n",
    "df"
   ]
  },
  {
   "cell_type": "markdown",
   "metadata": {},
   "source": [
    "### Left Side - Glaucoma"
   ]
  },
  {
   "cell_type": "code",
   "execution_count": null,
   "metadata": {},
   "outputs": [],
   "source": [
    "path13 = '../../Zeiss/Glaucoma/Glaucoma(3)/'\n",
    "path5 = '../../Zeiss/Glaucoma/Glaucoma(5)/'\n",
    "path6 = '../../Zeiss/Glaucoma/Glaucoma(6)/'\n",
    "paths = [path13,path5, path6]\n",
    "corpus_diseased = pd.concat(load_files_left(paths))"
   ]
  },
  {
   "cell_type": "code",
   "execution_count": null,
   "metadata": {},
   "outputs": [],
   "source": [
    "x = corpus_diseased.norm_pos_x\n",
    "y = corpus_diseased.norm_pos_y\n",
    "arr = bias_boxes_zeiss_left(x,y)\n",
    "\n",
    "corpus = corpus_diseased\n",
    "corpus['letters'] = arr\n",
    "corpus_new = corpus[['letters', 'fixation_id']]\n",
    "corpus= make_corpus_3(corpus_new)"
   ]
  },
  {
   "cell_type": "code",
   "execution_count": null,
   "metadata": {},
   "outputs": [],
   "source": [
    "sgt_ = SGT(kappa=1, \n",
    "           lengthsensitive=False, \n",
    "           mode='multiprocessing')\n",
    "sgtembedding_df = sgt_.fit_transform(corpus)\n",
    "sgtembedding_df = sgtembedding_df.set_index('id')\n"
   ]
  },
  {
   "cell_type": "code",
   "execution_count": null,
   "metadata": {},
   "outputs": [],
   "source": [
    "pca = PCA(n_components=2)\n",
    "pca.fit(sgtembedding_df)\n",
    "X=pca.transform(sgtembedding_df)\n",
    "\n",
    "df = pd.DataFrame(data=X, columns=['x1', 'x2'])"
   ]
  },
  {
   "cell_type": "code",
   "execution_count": null,
   "metadata": {},
   "outputs": [],
   "source": [
    "kmeans = KMeans(n_clusters=4, max_iter =300)\n",
    "kmeans.fit(df)\n",
    "\n",
    "labels = kmeans.predict(df)\n",
    "centroids = kmeans.cluster_centers_\n",
    "\n",
    "fig = plt.figure(figsize=(5, 5))\n",
    "colmap = {1: 'r', 2: 'g', 3: 'b', 4: 'orange'}\n",
    "colors = list(map(lambda x: colmap[x+1], labels))\n",
    "plt.scatter(df['x1'], df['x2'], color=colors, alpha=0.5, edgecolor=colors)"
   ]
  },
  {
   "cell_type": "code",
   "execution_count": null,
   "metadata": {},
   "outputs": [],
   "source": [
    "df['labels'] = colors\n",
    "df"
   ]
  },
  {
   "cell_type": "code",
   "execution_count": null,
   "metadata": {},
   "outputs": [],
   "source": []
  },
  {
   "cell_type": "code",
   "execution_count": null,
   "metadata": {},
   "outputs": [],
   "source": []
  },
  {
   "cell_type": "code",
   "execution_count": null,
   "metadata": {},
   "outputs": [],
   "source": []
  }
 ],
 "metadata": {
  "kernelspec": {
   "display_name": "sana-env",
   "language": "python",
   "name": "sana-env"
  },
  "language_info": {
   "codemirror_mode": {
    "name": "ipython",
    "version": 3
   },
   "file_extension": ".py",
   "mimetype": "text/x-python",
   "name": "python",
   "nbconvert_exporter": "python",
   "pygments_lexer": "ipython3",
   "version": "3.10.4"
  }
 },
 "nbformat": 4,
 "nbformat_minor": 4
}
